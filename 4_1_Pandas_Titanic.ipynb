{
 "cells": [
  {
   "cell_type": "code",
   "execution_count": null,
   "id": "bfe7972b-f427-44de-8617-c82df8c5e1fb",
   "metadata": {},
   "outputs": [],
   "source": [
    "## ! pip install pandas numpy\n",
    "## The titanic dataset is originally from https://github.com/mwaskom/seaborn-data/blob/master/titanic.csv"
   ]
  },
  {
   "cell_type": "code",
   "execution_count": null,
   "id": "66602393-299f-4d74-8f81-e1ebb19eef01",
   "metadata": {},
   "outputs": [],
   "source": [
    "import numpy as np\n",
    "import pandas as pd"
   ]
  },
  {
   "cell_type": "code",
   "execution_count": null,
   "id": "d662ce0c-6eaf-4385-adf8-c84580076351",
   "metadata": {},
   "outputs": [],
   "source": [
    "titanic = pd.read_csv('files/titanic.csv', skipinitialspace = True).set_index('PassengerId')"
   ]
  },
  {
   "cell_type": "code",
   "execution_count": null,
   "id": "ab9b89e5-73b1-4655-808f-2ef360e307ab",
   "metadata": {},
   "outputs": [],
   "source": [
    "titanic[(titanic['Age'] <= 12)]"
   ]
  },
  {
   "cell_type": "code",
   "execution_count": null,
   "id": "0160dbbf-ca7c-46b3-abee-58c155e50da0",
   "metadata": {},
   "outputs": [],
   "source": [
    "len(titanic[(titanic['Age'] <= 12)])"
   ]
  },
  {
   "cell_type": "code",
   "execution_count": null,
   "id": "c59cfd2e-27f6-4bf3-8048-124318b5b0ba",
   "metadata": {},
   "outputs": [],
   "source": [
    "len(titanic[(titanic['Sex'] == 'female')])"
   ]
  },
  {
   "cell_type": "code",
   "execution_count": null,
   "id": "cf21d655-6949-4d83-9626-e23f6b596b2e",
   "metadata": {},
   "outputs": [],
   "source": [
    "titanic[(titanic['Age'] <= 5) | (titanic['Sex'] == 'female')]"
   ]
  },
  {
   "cell_type": "code",
   "execution_count": null,
   "id": "3dc963fb-e4ae-4af1-8707-79bea0b9386c",
   "metadata": {},
   "outputs": [],
   "source": [
    "len(titanic[titanic['Survived'] == 1.0])"
   ]
  },
  {
   "cell_type": "code",
   "execution_count": null,
   "id": "5b27b827-41d1-4ed1-aa6d-00e2b5bb336d",
   "metadata": {},
   "outputs": [],
   "source": [
    "len(titanic[((titanic['Age'] <= 5) | (titanic['Sex'] == 'female')) & titanic['Survived'] == 1.0])"
   ]
  },
  {
   "cell_type": "code",
   "execution_count": null,
   "id": "d1a294b5-ac4f-4852-b49d-919a8ea0ad53",
   "metadata": {},
   "outputs": [],
   "source": [
    "len(titanic[~((titanic['Age'] <= 5) | (titanic['Sex'] == 'female')) & titanic['Survived'] == 1.0])"
   ]
  },
  {
   "cell_type": "code",
   "execution_count": null,
   "id": "0b948052-c42a-4f5b-8a36-a8b11edc115d",
   "metadata": {},
   "outputs": [],
   "source": [
    "titanic[(titanic['Age'] == 17.0) & (titanic['Sex'] == 'female') & (titanic['Pclass'] == 2) & (titanic['Survived'] == 1.0)]"
   ]
  },
  {
   "cell_type": "code",
   "execution_count": null,
   "id": "82dfd0b6-c121-495e-9211-8999bc304031",
   "metadata": {},
   "outputs": [],
   "source": [
    "titanic[(titanic['Age'] == 19.0) & (titanic['Sex'] == 'male') & (titanic['Pclass'] == 3) & (titanic['Survived'] != 1.0)]"
   ]
  }
 ],
 "metadata": {
  "kernelspec": {
   "display_name": "Python 3 (ipykernel)",
   "language": "python",
   "name": "python3"
  },
  "language_info": {
   "codemirror_mode": {
    "name": "ipython",
    "version": 3
   },
   "file_extension": ".py",
   "mimetype": "text/x-python",
   "name": "python",
   "nbconvert_exporter": "python",
   "pygments_lexer": "ipython3",
   "version": "3.9.7"
  }
 },
 "nbformat": 4,
 "nbformat_minor": 5
}
