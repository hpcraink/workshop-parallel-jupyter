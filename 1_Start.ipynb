{
 "cells": [
  {
   "cell_type": "markdown",
   "id": "ae5a922f-e890-439d-a5ae-4efaedee720b",
   "metadata": {},
   "source": [
    "<img src=\"images/bwHPC_Logo_cmyk.svg\" width=\"200\" /> <img src=\"images/HochschuleEsslingen_Logo_RGB_DE.png\" width=\"200\" /> <img src=\"images/Konstanz_Logo.svg\" width=\"200\" /> <img src=\"images/KIT_Logo.png\" width=\"200\" />"
   ]
  },
  {
   "cell_type": "markdown",
   "id": "f0916047-3813-4ac2-88d1-2602c6e9dc57",
   "metadata": {},
   "source": [
    "<img src=\"images/Python_logo_and_wordmark.svg.png\" width=\"200\" /> <img src=\"images/1200px-Pandas_logo.svg.png\" width=\"200\" /> <img src=\"images/2880px-NumPy_logo_2020.svg.png\" width=\"200\" /> <img src=\"images/1280px-Scikit_learn_logo_small.svg.png\" width=\"200\" /> <img src=\"images/Seaborn.png\" width=\"200\" /> <img src=\"images/dask_horizontal_white_no_pad.svg\" width=\"200\" style=\"background-color:black\" /> "
   ]
  },
  {
   "cell_type": "markdown",
   "id": "d6253692-38a0-49ac-81dc-dc6b4845b1b5",
   "metadata": {},
   "source": [
    "# Data Science with Python on HPC"
   ]
  },
  {
   "cell_type": "markdown",
   "id": "cdfb4139-3331-4699-ad6e-43fe9cf70e4a",
   "metadata": {
    "tags": []
   },
   "source": [
    "## Overview / Agenda\n",
    "\n",
    "14:00   Jupyter Introduction, setup Jupyter Notebooks<br>\n",
    "14:35   Basics of Python (using Python Environments)<br>\n",
    "15:00   NumPy<br>\n",
    "15:20   Pandas<br>\n",
    "15:50      -- Pause -- <br>\n",
    "16:00   Machine Learning<br>\n",
    "16:30   Dask / Dask-MPI<br>\n",
    "\n",
    "## Jupyter on bwUniCluster\n",
    "\n",
    "To use Jupyter on bwUniCluster, one has to have working access to this cluster:\n",
    "\n",
    "A tutorial to get User access is available on:\n",
    "\n",
    "https://wiki.bwhpc.de/e/BwUniCluster_2.0_User_Access\n",
    "\n",
    "The link to the registration website is (please note, your organization needs your account to have bwIDM Entitlements to bwHPC):\n",
    "\n",
    "https://bwidm.scc.kit.edu/\n",
    "\n",
    "Here, you will be able to also set another factor for Two-Factor Authorization (2FA), i.e. a one-time-password (OTP) on your mobile phone.\n",
    "In order to start Jupyter, one has to have an existing HOME directory on bwUniClsuter, which requires one successful Login using Secure Shell (SSH): Only upon login, the HOME directory is automatically created.\n",
    "\n",
    "Please note, that all of these network accesses (Jupyter, as well as SSH) requires your computer to be located within the IP-range of the Landeshochschulnetz Baden-Württemberg \"BelWue\", i.e. You may need to access from Your University's Virtual Private Network (VPN). Please contact your local compute center's support for details.\n",
    "\n",
    "### Linux\n",
    "\n",
    "> SSH-command to log in to bwUniCluster:\n",
    ">\n",
    "> ```bash\n",
    "> ssh <Acronmy of University>_<User-ID>@bwunicluster.scc.kit.edu\n",
    "> ```\n",
    ">\n",
    "> Example: es_mmuster@bwunicluster.scc.kit.edu\n",
    ">\n",
    "> After successful login, you may close this terminal and therefore the ssh connection using CTRL-D or the exit command:\n",
    ">\n",
    "> ```bash\n",
    "> exit\n",
    "> ```\n",
    "\n",
    "### Windows\n",
    "\n",
    "> Windows includes an integrated SSH Client, which may be accessed using the Command Line (German: Eingabeaufforderung). Start with Windows Key (German: Windows-Taste), entering the following command:\n",
    ">\n",
    "> ```bash\n",
    "> ssh <Acronym of University>_<User-ID>@bwunicluster.scc.kit.edu\n",
    "> ```\n",
    ">\n",
    "> For further information, see https://docs.microsoft.com/de-de/windows/terminal/tutorials/ssh.\n",
    "\n",
    "Now, the Jupyter-Website of bwUniCluster may be opened:\n",
    "\n",
    "https://uc2-jupyter.scc.kit.edu/"
   ]
  },
  {
   "cell_type": "markdown",
   "id": "29fbf9f3-d8fc-4939-abe3-cc7230ac4aae",
   "metadata": {},
   "source": [
    "### Ressource selection (Job-Parameter)\n",
    "\n",
    "To start an instance of a Jupyter Notebook, an interactive Queuing Job is created, which reserves resources on bwUniCluster. Which resource are reserved for how long, may be selected upon startup of this instance:\n",
    "\n",
    "![title](images/bwUniCluster_Jupyter_Select_Ressources.png)\n",
    "\n",
    "In this workshop, we'll later use Dask, in order to start multiple, further jobs from the Jupyter Notebook. Therefore, for this initial instance, a single core for 4 hours with 2 GB of memory and the Base module \"jupyter/base\" will suffice:\n",
    "\n",
    "![title](images/bwUniCluster_Jupyter_Select_Ressources2.png)\n",
    "\n",
    "After clicking \"Spawn\", the generated Job is submitted to the workload manager SLURM. Depending on the utilization of the Cluster, the requested ressources and the available fair-share quota of your University, this scheduling may take considerable amount of time. While the resources are being requested, you will see this note:\n",
    "\n",
    "![title](images/bwUniCluster_Jupyter_Pending.png)\n",
    "\n",
    "Followed by:\n",
    "\n",
    "![title](images/bwUniCluster_Jupyter_Waiting.png)\n",
    "\n",
    "Click on the button \"Event log\" to see the current status of the scheduling process.\n",
    "Upon high utilization of bwUniCluster, a timeout of the request of the ressources may happen:\n",
    "\n",
    "![title](images/Spawn_Failed_Timeout.png)\n",
    "\n",
    "In suche a case, using the \"Home\"-button in the Menu, one may swtich to \"Start My Server\", to start over and repeat the resource request:\n",
    "\n",
    "![title](images/Home_Button.png)\n",
    "\n",
    "![title](images/Start_My_Server.png)"
   ]
  },
  {
   "cell_type": "markdown",
   "id": "c997532c-6375-4711-8d19-8d60984eedbc",
   "metadata": {},
   "source": [
    "### Terminate Jupyter Notebook\n",
    "\n",
    "In order to exit the Jupyter Notebook, please use the menu \"File\"->\"Hub Control Panel\" and clicke the button \"Stopy My Server\". This will terminate the Jupyter Notebook and free the requested resources.\n",
    "\n",
    "![title](images/Hub_Control_Panel.png)\n",
    "\n",
    "![title](images/Stop_My_Server.png)"
   ]
  },
  {
   "cell_type": "markdown",
   "id": "234ba4ee-48f3-4ee4-89b9-c9d37a6671bd",
   "metadata": {},
   "source": [
    "## Jupyter Notebooks for this Workshop\n",
    "\n",
    "The Jupyter Notebooks used in this Workshop are available from GitHub repository https://github.com/hpcraink/workshop-parallel-jupyter.\n",
    "\n",
    "To use these Notebooks within Jupyter on bwUniCluster, the repository has to be cloned into a local directory in your HOME. Please open a Terminal Window in Jupyter Noteboock by clicking \"File\"->\"New\"->\"Terminal\":\n",
    "\n",
    "![title](images/File-New-Terminal.png)\n",
    "\n",
    "This new Terminal provides a (Bourne Again) Shell as command line interface and the location within the file system is your HOME directory of Your user. This directory is located on the central Lustre File Sytem. Files and Directories created here, will stay available and be persistent between sessions of your Jupyter Notebook -- and these are available on all compute nodes of bwUniCluster.\n",
    "\n",
    "In the HOME directory, we require a new directory, into which we clone the above git repository. We prefer to call it \"git\" and create it using \"mkdir\" (short for make directory):\n",
    "\n",
    "```bash\n",
    "mkdir git\n",
    "```\n",
    "\n",
    "Whether creating this directory has successfully finished may be checked using the \"ls\" (short for list files). The output must show the newly created directory \"git\":\n",
    "\n",
    "```bash\n",
    "ls\n",
    "```\n",
    "\n",
    "Now, we may \"cd\" (short for change directory) into this newly created directory:\n",
    "\n",
    "```bash\n",
    "cd git\n",
    "```\n",
    "\n",
    "After changing into this directory, the command line's prompt will switch from showing the user's name (the HOME-directory) to the name of the newly created directory \"git\".\n",
    "\n",
    "Here, we may clone the git repository from GitHub using the command:\n",
    "\n",
    "```bash\n",
    "git clone https://github.com/hpcraink/workshop-parallel-jupyter.git\n",
    "```\n",
    "\n",
    "Once, this clone process has finished, we may switch to the directory within the Jupyter notebook clicking on the \"File Browser\" Tab on the left hand side and selecting the git repository. This directory should now contain the directory \"workshop-parallel-jupyter\". Here you will find all the Notebooks required for this workshop. You may open these using double-clicks.\n",
    "\n",
    "![title](images/Jupyter_choose_git_folder.png)"
   ]
  },
  {
   "cell_type": "markdown",
   "id": "532bd687-3da2-4f95-90fb-250f4adb9251",
   "metadata": {},
   "source": [
    "## Evaluation\n",
    "\n",
    "At the end of the workshop, we kindly request you to participate in a short Evaluation. Thank You very much.\n"
   ]
  },
  {
   "cell_type": "code",
   "execution_count": null,
   "id": "3b3e3e4a-656f-4658-9504-cb39a99b9618",
   "metadata": {},
   "outputs": [],
   "source": []
  }
 ],
 "metadata": {
  "kernelspec": {
   "display_name": "python_workshop_env",
   "language": "python",
   "name": "python_workshop_env"
  },
  "language_info": {
   "codemirror_mode": {
    "name": "ipython",
    "version": 3
   },
   "file_extension": ".py",
   "mimetype": "text/x-python",
   "name": "python",
   "nbconvert_exporter": "python",
   "pygments_lexer": "ipython3",
   "version": "3.7.11"
  }
 },
 "nbformat": 4,
 "nbformat_minor": 5
}
