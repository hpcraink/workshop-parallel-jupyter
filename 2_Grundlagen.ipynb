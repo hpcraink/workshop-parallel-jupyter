{
 "cells": [
  {
   "cell_type": "markdown",
   "id": "284b591f-c876-44a0-b703-ffba7a0db6e9",
   "metadata": {},
   "source": [
    "<img src=\"images/bwHPC_Logo_cmyk.svg\" width=\"200\" /> <img src=\"images/HochschuleEsslingen_Logo_RGB_DE.png\" width=\"200\" /> <img src=\"images/Konstanz_Logo.svg\" width=\"200\" /> <img src=\"images/KIT_Logo.png\" width=\"200\" />"
   ]
  },
  {
   "cell_type": "markdown",
   "id": "7e122d0f-7821-4cee-bd9d-1848cc7702c5",
   "metadata": {},
   "source": [
    "## Python Grundlagen\n"
   ]
  },
  {
   "cell_type": "markdown",
   "id": "8ee0c7d2-9831-472d-8855-a290ed6d4b7b",
   "metadata": {},
   "source": [
    "* [Datentypen](#Datentypen)\n",
    "    * [str](#str)\n",
    "    * [int](#int)\n",
    "    * [float](#float)\n",
    "    * [complex](#complex)\n",
    "    * [list](#list)\n",
    "    * [tuple](#tuple)\n",
    "    * [range](#range)\n",
    "    * [dict](#dict)\n",
    "    * [set](#set)\n",
    "    * [frozenset](#frozenset)\n",
    "    * [bool](#bool)\n",
    "    * [bytes](#bytes)\n",
    "    * [bytearray](#bytearray)\n",
    "    * [memoryview](#memoryview)\n",
    "* [Explizite Typumwandlung](#Explizite-Typumwandlung)\n",
    "* [Verschachtelte Datentypen](#Verschachtelte-Datentypen)\n",
    "* [Multiple Names und mutable](#Multiple-Names-und-mutable)\n",
    "* [Scopes: nonlocal und global](#Scopes:-nonlocal-und-global)\n",
    "* [Operatoren](#Operatoren)\n",
    "    * [Arithmetische Operatoren](#Arithmetische-Operatoren)\n",
    "    * [Bitweise Operatoren](#Bitweise-Operatoren)\n",
    "    * [Zuweisungen](#Zuweisungen)\n",
    "* [Kontrollstrukturen](#Kontrollstrukturen)\n",
    "    * [if, elif und else](#if,-elif-und-else)\n",
    "    * [Vergleichsoperatoren](#Vergleichsoperatoren)\n",
    "        * [Inhaltsvergleich](#Inhaltsvergleich)\n",
    "        * [Adressvergleich](#Adressvergleich)\n",
    "        * [Vergleichsoperatoren für Aufzählungen](#Vergleichsoperatoren-für-Aufzählungen)\n",
    "        * [Boolsche Operatoren](#Boolsche-Operatoren)\n",
    "        * [Vergleich von Datentypen](#Vergleich-von-Datentypen)\n",
    "    * [Schleifen](#Schleifen)\n",
    "        * [while](#while)\n",
    "        * [for](#for)\n",
    "* [Index und Slice](#Index-und-Slice)\n",
    "* [Funktionen](#Funktionen)\n",
    "    * [ohne Parameter und Return-Wert](#ohne-Parameter-und-Return-Wert)\n",
    "    * [Parameter](#Parameter)\n",
    "    * [default-Parameter](#default-Parameter)\n",
    "    * [variable Parameter Anzahl](#variable-Parameter-Anzahl)\n",
    "    * [Return-Wert](#Return-Wert)\n",
    "    * [Funktion im Scope einer Funktion](#Funktion-im-Scope-einer-Funktion)\n",
    "    * [Funktion als Variable](#Funktion-als-Variable)\n",
    "    * [Funktion als Parameter](#Funktion-als-Parameter)\n",
    "    * [Keyword Arguments](#Keyword-Arguments)\n",
    "    * [variable Keyword Parameter Anzahl](#variable-Keyword-Parameter-Anzahl)\n",
    "    * [variable Parameter und Keyword Parameter Anzahl](#variable-Parameter-und-Keyword-Parameter-Anzahl)\n",
    "    * [Typ Annotation](#Typ-Annotation)\n",
    "    * [Funktionen und mutable Parameter](#Funktionen-und-mutable-Parameter)\n",
    "    * [Generator Funktionen](#Generator-Funktionen)\n",
    "    * [Decorator Funktionen](#Decorator-Funktionen)\n",
    "    * [Lambda Funktionen](#Lambda-Funktionen)\n",
    "* [Klassen](#Klassen)\n",
    "    * [Klassen-Variablen](#Klassen-Variablen)\n",
    "    * [Instanz-Variablen](#Instanz-Variablen)\n",
    "    * [Sichtbarkeit von Klassen- und Instanz-Variablen](#Sichtbarkeit-von-Klassen--und-Instanz-Variablen)\n",
    "    * [Methoden](#Methoden)\n",
    "    * [Sichtbarkeit von Methoden](#Sichtbarkeit-von-Methoden)\n",
    "    * [Vererbung](#Vererbung)\n",
    "    * [vordefinierte Methoden-Namen](#vordefinierte-Methoden-Namen)\n",
    "    * [Ändern von Klassen/Objekten zur Laufzeit](#Ändern-von-Klassen/Objekten-zur-Laufzeit)\n",
    "    * [Iterators](#Iterators)\n",
    "* [Exceptions](#Exceptions)\n",
    "* [With, \\_\\_enter\\_\\_, \\_\\_exit\\_\\_ und yield](#With,-__enter__,-__exit__-und-contextmanager)\n",
    "* [Module und import](#Module-und-import)\n",
    "* [Environment erstellen](#Environment-erstellen)\n",
    "* [Environment für folgende Übungen](#Environment-für-folgende-Übungen)\n",
    "* [Hinweise zu Jupyter](#Hinweise-zu-Jupyter)"
   ]
  },
  {
   "cell_type": "markdown",
   "id": "2bf831fb-009c-4427-8f82-4197d68299ee",
   "metadata": {},
   "source": [
    "### Datentypen\n",
    "\n",
    "Python stellt verschiedene built-in Datentypen zur Verfügung. Dazu gehören auch komplexe Datenstrukturen wie Key-Value-Zuordnungen und Mengen. Die built-in Datentypen können der folgenden Tabelle entnommen werden:"
   ]
  },
  {
   "cell_type": "markdown",
   "id": "d4faae9d-94b1-4cdf-b68a-38ac15a3679b",
   "metadata": {},
   "source": [
    "| Datentyp-Gruppe | Python built-in type         | mutable   | Reihenfolge |\n",
    "|-----------------|------------------------------|-----------|-------------|\n",
    "| Text            | str                          |           | sortiert    |\n",
    "| Numerisch       | int, float, complex          |           |             |\n",
    "| Aufzählung      | list, tuple, range           | list      | sortiert    |\n",
    "| Zuordnung (Map) | dict                         | dict      | unsortiert  |\n",
    "| Mengen          | set, frozenset               | set       | unsortiert  |\n",
    "| Boolean         | bool                         |           |             |\n",
    "| Binär           | bytes, bytearray, memoryview | bytearray | sortiert    |\n",
    "\n",
    "Datentypen werden in Python implizit durch eine Zuweisung eines Wertes zu einer Variablen festgelegt. Hierdurch kann eine Variable auch den Datentyp wechseln. In den folgenden Beispielen werden alle in der oben stehenden Tabelle aufgeführten built-in Datentypen durch Zuweisung eines entsprechenden Wertes erstellt. Dabei wird immer die Variable namens x genutzt. Der Datentyp von x wechselt somit von Zuweisung zu Zuweisung.\n",
    "\n",
    "Das Variablen durch Zuweisung einen Datentyp erhalten ist eine vereinfachte Erklärung. Das Tatsächliche Verhalten wird später im Abschnitt [Multiple Names und mutable](#Multiple-Names-und-mutable) erläutert."
   ]
  },
  {
   "cell_type": "markdown",
   "id": "08018c7b-b3e4-431a-84e8-289373b7bd4b",
   "metadata": {},
   "source": [
    "#### str\n",
    "\n",
    "Die Verwendung von Text ist in Python über den Datentyp str als unveränderbare Folge von Unicode Zeichen implementiert. Dies bedeutet, dass jede Veränderung eines Textes (z.B. das Zusammenfügen von mehreren Texten zu einem neuen Text) grundsätzlich ein neues Objekt vom Datentyp str erzeugt. Zudem sind nicht ASCII Zeichen standardmäßig unterstützt.\n",
    "\n",
    "Für eine Beschreibung der verfügbaren Methoden siehe https://www.w3schools.com/python/python_ref_string.asp.\n",
    "\n",
    "Wird eine veränderbare Zeichenfolge benötigt, so muss bytearray genutzt werden. Ein bytearray Objekt ist jedoch eine Folge von einzelnen Bytes (s.u. [bytearray](#bytearray)). Daher ist ein str nicht ohne zusätzlichen Aufwand (Encoding muss beachtet werden: ASCII, utf-8, ...) als bytearray abbildbar."
   ]
  },
  {
   "cell_type": "code",
   "execution_count": null,
   "id": "808e1893-a0bd-4824-afca-aa7c24d51ec0",
   "metadata": {
    "tags": []
   },
   "outputs": [],
   "source": [
    "x = \"Dies ist ein Text\" # ein str ist immutable\n",
    "print(str(type(x)) + \": \" + x)\n",
    "print(\"Objekt-ID (in CPython: memory address): \" + str(id(x)))\n",
    "# folgende Veränderung des str führt zu einem Fehler\n",
    "#x[4] = \"_\"\n",
    "\n",
    "y = x + \" mit Anhang\" # erstellt einen neuen str\n",
    "print(str(type(y)) + \": \" + y)\n",
    "print(\"Objekt-ID (in CPython: memory address): \" + str(id(y)))"
   ]
  },
  {
   "cell_type": "markdown",
   "id": "7f64a476-2c72-407c-ae30-f5fd7ca1ba2a",
   "metadata": {},
   "source": [
    "In den oben genutzten Ausgaben über print() wird ein neuer String durch Verkettung mehrere Strings erstellt. Alternativ kann ein neuer String auch mit Platzhaltern erstellt werden:"
   ]
  },
  {
   "cell_type": "code",
   "execution_count": null,
   "id": "51b9d679-e072-4198-9b14-3d9ab68a6bf2",
   "metadata": {
    "tags": []
   },
   "outputs": [],
   "source": [
    "x = \"Dies ist ein Text\"\n",
    "y = f\"{x} mit Anhang\" # durch die Angabe von \"f\" vor dem String werden alle Variablen in geschweiften Klammern ersetzt\n",
    "print(f\"{type(y)}: {y}\")\n",
    "print(\"{type(y)}: {y}\") # ohne das \"f\" verlieren die Klammern ihre besondere Bedeutung und werden wieder als Teil des str interpretiert\n",
    "print(f\"{type(y)}: {{{y}}}\") # doppelte geschweifte Klammern können genutzt werden, um Klammern zu escapen"
   ]
  },
  {
   "cell_type": "markdown",
   "id": "2cb851f3-1b22-4f9e-82cc-bc58588eede0",
   "metadata": {},
   "source": [
    "Zeilenumbrüche können in str über die Zeichenfolge \"\\n\" eingefügt werden. Alternativ kann ein str mit dreifachen Anführungszeichen begonnen und geschlossen werden. Ein solcher str nutzt Zeilenumbrüche im Source."
   ]
  },
  {
   "cell_type": "code",
   "execution_count": null,
   "id": "2b58d678-ac48-4beb-8857-243776b77dd9",
   "metadata": {
    "tags": []
   },
   "outputs": [],
   "source": [
    "x = \"Ein Text\\nmit Zeilenumbruch.\"\n",
    "print(x)\n",
    "x = \"Ein Text\\n\\\n",
    "mit Zeilenumbruch.\" # der Backslash \"\\\" nach dem Zeilenumbruch \"\\n\" maskiert \"echten\" Zeilenumbruch am Ende der Zeile\n",
    "print(x)\n",
    "x = \"\"\"Ein Text\n",
    "mit Zeilenumbruch.\"\"\"\n",
    "print(x)"
   ]
  },
  {
   "cell_type": "markdown",
   "id": "84ea50b2-43d5-4b4a-a85f-dc124bcdf96d",
   "metadata": {},
   "source": [
    "#### int\n",
    "\n",
    "Für Ganzzahlen existiert der Datentyp int. Im Gegensatz zu Sprachen wie Java und C/C++ gibt es in Python 3 keine feste Obergrenze für die Anzahl der durch den primitiven Datentyp int genutzten Bytes. Die größte Zahl, die int darstellen kann, hängt also direkt vom verfügbaren Speicher ab. Dementsprechend kann es auch nicht zu einem unbemerkten \"integer overflow\" kommen."
   ]
  },
  {
   "cell_type": "code",
   "execution_count": null,
   "id": "af83ab54-d93e-437f-af25-d96a146b4e0d",
   "metadata": {
    "tags": []
   },
   "outputs": [],
   "source": [
    "import sys\n",
    "\n",
    "x = 1\n",
    "print(str(type(x)) + \": \" + str(x))\n",
    "\n",
    "print(sys.int_info) # siehe auch https://docs.python.org/3/library/sys.html"
   ]
  },
  {
   "cell_type": "markdown",
   "id": "1e72065b-c33c-477b-9d7e-6f8bdbd51f2c",
   "metadata": {},
   "source": [
    "#### float\n",
    "\n",
    "Für Fließkommazahlen existiert der Datentyp float."
   ]
  },
  {
   "cell_type": "code",
   "execution_count": null,
   "id": "4c518c1c-c1bb-44be-b486-8ea8606c0dce",
   "metadata": {
    "tags": []
   },
   "outputs": [],
   "source": [
    "import sys\n",
    "\n",
    "x = 1.1\n",
    "print(str(type(x)) + \": \" + str(x))\n",
    "\n",
    "print(sys.float_info) # siehe auch https://docs.python.org/3/library/sys.html"
   ]
  },
  {
   "cell_type": "markdown",
   "id": "9ac18d28-7fd0-4a8e-bd03-4f4fab5cee72",
   "metadata": {},
   "source": [
    "#### complex\n",
    "\n",
    "Für Komplexe Zahlen existiert der Datentyp complex. Die imaginäre Einheit wird dabei nicht mit i, sondern wie z.B. in der Elektrotechnik üblich mit j gekennzeichnet."
   ]
  },
  {
   "cell_type": "code",
   "execution_count": null,
   "id": "0bc220aa-7389-4439-b7e1-855ae0d397b4",
   "metadata": {
    "tags": []
   },
   "outputs": [],
   "source": [
    "x = 2+1j\n",
    "print(str(type(x)) + \": \" + str(x))"
   ]
  },
  {
   "cell_type": "markdown",
   "id": "348de807-d66b-4eeb-8c63-626fb499196d",
   "metadata": {},
   "source": [
    "#### list\n",
    "\n",
    "Für sortierte und veränderbare Aufzählungen von Objekten steht der Datentyp list zur Verfügung. Eine list kann Objekte von unterschiedlichen Datentypen enthalten.\n",
    "\n",
    "Für eine Beschreibung der verfügbaren Methoden siehe https://www.w3schools.com/python/python_ref_list.asp."
   ]
  },
  {
   "cell_type": "code",
   "execution_count": null,
   "id": "a37416aa-3f6f-4831-9e34-e8d7e0c5d0c3",
   "metadata": {
    "tags": []
   },
   "outputs": [],
   "source": [
    "x = [\"1\", 1, 1.0] # eine list ist mutable: kann nach Initialisierung verändert werden\n",
    "print(str(type(x)) + \": \" + str(x))\n",
    "x[2] = 2\n",
    "x.append(1.0)\n",
    "print(str(type(x)) + \": \" + str(x))\n",
    "x.remove(\"1\")\n",
    "print(str(type(x)) + \": \" + str(x))"
   ]
  },
  {
   "cell_type": "markdown",
   "id": "b0044b71-971e-47cb-a841-26ba92cd977f",
   "metadata": {},
   "source": [
    "#### tuple\n",
    "\n",
    "Im Gegensatz zur list ist ein tuple zwar sortiert, aber nicht änderbar.\n",
    "\n",
    "Für eine Beschreibung der verfügbaren Methoden siehe https://www.w3schools.com/python/python_ref_tuple.asp."
   ]
  },
  {
   "cell_type": "code",
   "execution_count": null,
   "id": "6a4bbbaa-2a22-4e91-8bad-fa81e2703118",
   "metadata": {
    "tags": []
   },
   "outputs": [],
   "source": [
    "x = (\"1\", 1, 1.0) # ein tuple ist immutable: kann nach Initialisierung nicht mehr verändert werden\n",
    "                  # (ist daher hashable und kann als key in einem dict genutzt werden s.u.)\n",
    "print(str(type(x)) + \": \" + str(x))\n",
    "# folgende Veränderungen des tuples führen zu einem Fehler\n",
    "#x[2] = 2\n",
    "#x.append(1.0)"
   ]
  },
  {
   "cell_type": "markdown",
   "id": "675e9a3e-f3fd-4c2a-9b04-9e4488c4d417",
   "metadata": {},
   "source": [
    "#### range\n",
    "\n",
    "Zahlenreihen können über einen range abgebildet werden. Dafür existiert die range Funktion. Dieser können ein bis drei Argumente übergeben werden. Wird nur ein Argument angegeben, so beginnt die Zahlenreihe bei 0, enthält jede ganze Zahl (Schrittweite ist 1) und endet mit dem größten Wert, welcher kleiner als das angegebene Argument ist. Bei zwei Argumenten gibt das erste einen Startwert an. Anstatt mit 0 beginnt die Reihe dann mit dem Startwert. Bei drei Argumenten gibt das letzte die Schrittweite an. Somit ist es möglich Zahlen zu überspringen und auch absteigend zu Zählen.\n",
    "\n",
    "Mit range können auch lange Zahlenreihen einfach und schnell definiert werden, ohne hierfür manuell die gesamte Reihe anzugeben (wie es bei list oder tuple der Fall wäre). Dies ist insbesondere bei Zählschleifen nützlich (s.u. [for](#for))."
   ]
  },
  {
   "cell_type": "code",
   "execution_count": null,
   "id": "dd42a230-0af3-423c-9705-4b274f47bf08",
   "metadata": {
    "tags": []
   },
   "outputs": [],
   "source": [
    "x = range(5) # alle Zahlen von 0 bis exklusiv 5 (0, 1, 2, 3, 4)\n",
    "print(str(type(x)) + \": \" + str(x))\n",
    "for n in x:\n",
    "    print(n)\n",
    "\n",
    "x = range(2,5) # alle Zahlen von 2 bis exklusiv 5 (2, 3, 4)\n",
    "print(str(type(x)) + \": \" + str(x))\n",
    "for n in x:\n",
    "    print(n)\n",
    "\n",
    "x = range(4,-1,-2) # alle Zahlen von 4 absteigend in Schritten von -2 bis exklusiv -1 (4, 2, 0)\n",
    "print(str(type(x)) + \": \" + str(x))\n",
    "for n in x:\n",
    "    print(n)"
   ]
  },
  {
   "cell_type": "markdown",
   "id": "4987efd4-664e-4912-ad2f-066b9e4b0042",
   "metadata": {},
   "source": [
    "#### dict\n",
    "\n",
    "Ein dict enthält eine Aufzählung von Key-Value-Paaren. Ein dict ist mutable und unsortiert (ab Python 3.7 ist dict sortiert). Die Syntax bei der Erstellung eines dicts ähnelt der JSON Syntax. Als Keys sind immutable und mutable Python Objekte erlaubt, sofern sie hashable sind (siehe https://docs.python.org/3/glossary.html#term-hashable). Ein Zugriff auf einzelne Elemente im dict kann über die Angabe des Keys in Eckigen Klammern oder über eine der von dict zur Verfügung gestellten Methoden (z.B. get oder values) erfolgen.\n",
    "\n",
    "Für eine Beschreibung der verfügbaren Methoden siehe https://www.w3schools.com/python/python_ref_dictionary.asp."
   ]
  },
  {
   "cell_type": "code",
   "execution_count": null,
   "id": "65269414-0661-4428-8dbd-ddf19ddf35eb",
   "metadata": {
    "tags": []
   },
   "outputs": [],
   "source": [
    "x = {\"key1\": \"value1\", \"key2\": 5, \"key3\": [5, 4, \"test\"], 2: \"test1\", (5, 3): \"test2\"}\n",
    "print(str(type(x)) + \": \" + str(x))\n",
    "x[\"key2\"] = 7\n",
    "print(str(type(x)) + \": \" + str(x))\n",
    "x[2] = 2\n",
    "print(str(type(x)) + \": \" + str(x))\n",
    "x[(5, 3)] = \"test3\"\n",
    "print(str(type(x)) + \": \" + str(x))\n",
    "x.pop(\"key3\")\n",
    "print(str(type(x)) + \": \" + str(x))\n",
    "x[\"new_key\"] = \"new_value\"\n",
    "print(str(type(x)) + \": \" + str(x))"
   ]
  },
  {
   "cell_type": "markdown",
   "id": "42a03754-15dc-4c9c-99f7-7ba9738e4c2f",
   "metadata": {},
   "source": [
    "#### set\n",
    "\n",
    "Mengen können in Python über den Datentyp set abgebildet werden. Ein set ist veränderbar (mutable) und unsortiert. Ein bestimmtes Element kann nur einmal in einem set vorkommen (ein set ist eine Menge).\n",
    "\n",
    "Für eine Beschreibung der verfügbaren Methoden siehe https://www.w3schools.com/python/python_ref_set.asp."
   ]
  },
  {
   "cell_type": "code",
   "execution_count": null,
   "id": "c7c66735-5862-4f42-aa66-5c2c3672aa5b",
   "metadata": {
    "tags": []
   },
   "outputs": [],
   "source": [
    "x = {\"eins\", \"zwei\", \"drei\"}\n",
    "print(str(type(x)) + \": \" + str(x))\n",
    "x.add(\"vier\")\n",
    "print(str(type(x)) + \": \" + str(x))\n",
    "x.add(\"eins\") # set ist eine Menge: jedes Element kann nur einmal vorkommen\n",
    "print(str(type(x)) + \": \" + str(x))\n",
    "x.remove(\"eins\")\n",
    "print(str(type(x)) + \": \" + str(x))"
   ]
  },
  {
   "cell_type": "markdown",
   "id": "f2b32e6d-5adc-4281-861d-e306efa33255",
   "metadata": {},
   "source": [
    "#### frozenset\n",
    "\n",
    "Stellt die immutable Variante eines sets dar."
   ]
  },
  {
   "cell_type": "code",
   "execution_count": null,
   "id": "1ab9a247-8826-477f-9404-e0479701a0bc",
   "metadata": {
    "tags": []
   },
   "outputs": [],
   "source": [
    "x = frozenset({1, 2, 3}) # immutable set\n",
    "# folgende Veränderungen des frozenset führen zu einem Fehler\n",
    "#x.add(4)\n",
    "#x.add(1)\n",
    "print(str(type(x)) + \": \" + str(x))"
   ]
  },
  {
   "cell_type": "markdown",
   "id": "4216feb0-7bb5-49bc-8c39-a8aa882ed43c",
   "metadata": {},
   "source": [
    "#### bool\n",
    "\n",
    "Ein einzelner binärer Wert (True oder False) wird über den Datentyp bool dargestellt."
   ]
  },
  {
   "cell_type": "code",
   "execution_count": null,
   "id": "c4bba3e6-d910-4940-a042-4c8ac8d45dcb",
   "metadata": {
    "tags": []
   },
   "outputs": [],
   "source": [
    "x = True\n",
    "print(str(type(x)) + \": \" + str(x))\n",
    "x = False\n",
    "print(str(type(x)) + \": \" + str(x))"
   ]
  },
  {
   "cell_type": "markdown",
   "id": "da1d7011-17ad-4c10-abc0-0660ec1b929f",
   "metadata": {},
   "source": [
    "#### bytes\n",
    "\n",
    "Eine sortierte und unveränderbare (immutable) Abfolge von Bytes kann mit dem Datentyp bytes definiert werden."
   ]
  },
  {
   "cell_type": "code",
   "execution_count": null,
   "id": "f8d6ddf8-6304-4646-98a2-4a9148824bc8",
   "metadata": {},
   "outputs": [],
   "source": [
    "x = bytes(5) # fünf mit Null initialisierte Bytes\n",
    "print(str(type(x)) + \": \" + str(x))\n",
    "x = b\"Dies ist ein Text\" # immutable\n",
    "print(str(type(x)) + \": \" + str(x))\n",
    "# folgende Veränderung führt zu einem Fehler\n",
    "#x[4] = b\"_\"\n",
    "x = x.decode(\"utf-8\") # aus bytes wird ein str\n",
    "print(str(type(x)) + \": \" + str(x))\n",
    "x = x.encode(\"utf-8\") # aus str wird bytes\n",
    "print(str(type(x)) + \": \" + str(x))"
   ]
  },
  {
   "cell_type": "markdown",
   "id": "d8d96a77-ff6d-4b64-bc69-2424dc85ab9b",
   "metadata": {},
   "source": [
    "#### bytearray\n",
    "\n",
    "Eine sortierte und veränderbare Abfolge von Bytes kann mit dem Datentyp bytearray definiert werden."
   ]
  },
  {
   "cell_type": "code",
   "execution_count": null,
   "id": "e5dc0222-ac7b-40a5-8bef-f9f40bd03c1b",
   "metadata": {
    "tags": []
   },
   "outputs": [],
   "source": [
    "x = bytearray(5) # fünf mit Null initialisierte Bytes\n",
    "print(str(type(x)) + \": \" + str(x))\n",
    "x = bytearray(\"Dies ist ein Text\", \"utf-8\") # text als mutable array\n",
    "print(str(type(x)) + \": \" + str(x))\n",
    "x[4] = 95 # ASCII \"_\"\n",
    "print(str(type(x)) + \": \" + str(x))"
   ]
  },
  {
   "cell_type": "markdown",
   "id": "e9183e6a-3033-45f0-9810-6d82f3525871",
   "metadata": {},
   "source": [
    "#### memoryview\n",
    "\n",
    "Über memoryview bietet Python die Möglichkeit direkt die internen Daten eines Objekts zu ändern. Hierfür muss das entsprechende Objekt das buffer protocol von Python unterstützen. Ist dies der Fall, so kann mit der Funktion memoryview aus dem ursprünglichen Objekt ein neues Objekt vom Typ memoryview erzeugt werden. Dieses neue Objekt bietet Zugriff auf das zugrunde liegende byte array oder den genutzten Buffer des ursprünglichen Objekts. Damit lassen sich Daten bearbeiten, ohne dass diese aus dem ursprünglichen Objekt extrahiert und dabei kopiert werden müssen.\n",
    "\n",
    "Zu buffer protocol siehe https://docs.python.org/3/c-api/buffer.html."
   ]
  },
  {
   "cell_type": "code",
   "execution_count": null,
   "id": "67bfbced-90f2-4f10-857f-7ecf7ffa765f",
   "metadata": {
    "tags": []
   },
   "outputs": [],
   "source": [
    "x = memoryview(bytearray(\"Dies ist ein Text\", \"utf-8\"))\n",
    "\n",
    "print(str(type(x)) + \": \" + str(x))\n",
    "\n",
    "print(x[0]) # ASCII von \"D\" ist 68"
   ]
  },
  {
   "cell_type": "markdown",
   "id": "ccdaf3fd-a4fe-4bd2-ac5e-f410bd2e3dbb",
   "metadata": {},
   "source": [
    "### Explizite Typumwandlung\n",
    "\n",
    "Eine Datentyp kann explizit gewählt werden, indem ein Typecast bei der Zuweisung eines Wertes ausgeführt wird. Folgend je ein Beispiel für einen Typecast pro built-in Datentyp."
   ]
  },
  {
   "cell_type": "code",
   "execution_count": null,
   "id": "a2c55245-08a4-430d-af6f-f26f43b8a1d8",
   "metadata": {
    "tags": []
   },
   "outputs": [],
   "source": [
    "x = str(\"Dies ist ein Text\")\n",
    "x = int(1)\n",
    "x = float(1.1)\n",
    "x = complex(2+1j)\n",
    "x = list((\"1\", 1, 1.0)) # Cast von tuple nach list\n",
    "x = tuple((\"1\", 1, 1.0))\n",
    "x = range(5)\n",
    "# bei Funktionsaufrufen können Keyword Arguments nur gültige Identifier sein:\n",
    "# ein dict mit keys wie 2 und (5, 3) kann auf diesem Weg nicht erstellt werden\n",
    "# x = dict(key1=\"value1\", key2=5, key3=[5, 4, \"test\"], 2=\"test1\", (5, 3)=\"test2\")\n",
    "x = dict(key1=\"value1\", key2=5, key3=[5, 4, \"test\"])\n",
    "x = {\"key1\": \"value1\", \"key2\": 5, \"key3\": [5, 4, \"test\"], 2: \"test1\", (5, 3): \"test2\"}\n",
    "x = dict(x) # Alternative für keys wie 2 und (5, 3): zuerst ein dict erstellen und dann zu dict Casten\n",
    "x = set((\"eins\", \"zwei\", \"drei\")) # Cast von tuple nach list\n",
    "x = frozenset((1, 2, 3)) # Cast von tuple nach set\n",
    "x = bool(True)\n",
    "x = bytes(b\"Dies ist ein Text\")\n",
    "x = bytearray(b\"Dies ist ein Text\")\n",
    "x = memoryview(x)"
   ]
  },
  {
   "cell_type": "markdown",
   "id": "d24cc24d-1658-4bd7-b19c-f2d5909f619f",
   "metadata": {},
   "source": [
    "### Verschachtelte Datentypen\n",
    "\n",
    "Als Elemente von Aufzählungen, Zuordnungen und Mengen können auch weitere Aufzählungen, Zuordnungen und Mengen genutzt werden."
   ]
  },
  {
   "cell_type": "code",
   "execution_count": null,
   "id": "1a86fa71-1cf1-47ed-9ca5-ee730ad1a200",
   "metadata": {
    "tags": []
   },
   "outputs": [],
   "source": [
    "x = {\"list_of_list\": [[2,3,4],[2,4,6],[[\"test1\", \"test2\"],[\"test3\", \"test4\"]]]}\n",
    "print(str(type(x)) + \": \" + str(x))\n",
    "\n",
    "x = x[\"list_of_list\"][2]\n",
    "print(str(type(x)) + \": \" + str(x))\n",
    "\n",
    "x = x[1][0]\n",
    "print(str(type(x)) + \": \" + str(x))"
   ]
  },
  {
   "cell_type": "markdown",
   "id": "c321bc60-ec6a-4541-96a0-dc8cd38d4f1a",
   "metadata": {},
   "source": [
    "### Multiple Names und mutable\n",
    "\n",
    "Variablen (auch als Namen bezeichnet) sind in Python immer Zeiger/Referenzen auf ein Objekt (auch als Wert bezeichnet). Eine Variable ist dabei in einem Scope erstellt und nur in diesem sichtbar. Das Objekt liegt jedoch in globalem Speicher und ist damit auch außerhalb des Scopes in dem es erschaffen wurde nutzbar. Hierfür muss es jedoch an einen anderen Scope übergeben werden (z.B. als Parameter bei einem Funktionsaufruf). Durch Zuweisung können mehrere Variablen auf das selbe Objekt zeigen. Ein Objekt bleibt solange erhalten, bis die letzte Referenz auf das Objekt gelöscht wurde (der Scope aller entsprechenden Variablen wurde verlassen oder sie wurden mit del explizit gelöscht).\n",
    "\n",
    "Realisiert wird dies in Python indem Variablen als Referenzen auf Objekte im Stack und die Objekte selbst im Heap abgelegt werden.\n",
    "\n",
    "Variablen haben keinen Datentyp. Der Datentyp wird stattdessen im Objekt gespeichert. Formal gesehen kann daher eine Variable nicht den Datentyp wechseln. Sie kann aber durch eine Zuweisung auf ein anderes Objekt mit einem anderen Datentyp zeigen.\n",
    "\n",
    "![image](images/Python_Variables.svg)\n",
    "\n",
    "Zeigen mehrere Namen auf ein immutable Objekt, so führt die Zuweisung eines neuen Objekts zu einem der Namen dazu, dass nur dieser Name das neue Objekt referenziert. Da das ursprüngliche Objekt immutable ist, kann eine Zuweisung das Objekt nicht ändern. Stattdessen wird der von der Zuweisung betroffene Name mit einer Referenz auf das neue Objekt ausgestattet und alle anderen Namen zeigen weiterhin auf das ursprüngliche Objekt."
   ]
  },
  {
   "cell_type": "code",
   "execution_count": null,
   "id": "111d0a60-a833-43d4-946c-b0f85cf074fd",
   "metadata": {},
   "outputs": [],
   "source": [
    "x = 1\n",
    "# Zuweisung erstellt ein neues immutable Objekt vom Typ\n",
    "# int mit dem Wert 1 und lässt den Namen x dieses Objekt\n",
    "# referenzieren\n",
    "y = x\n",
    "# Zuweisung lässt den Namen y auf das gleiche Objekt wie\n",
    "# Name x zeigen (x und y referenzieren das gleiche Objekt)\n",
    "x = 2\n",
    "# da ein int immutable ist, erstellt die Zuweisung ein\n",
    "# neues Objekt mit dem Wert 2 und lässt den Namen x auf\n",
    "# dieses neue Objekt zeigen\n",
    "# y zeigt weiterhin auf das alte Objekt mit Wert 1\n",
    "\n",
    "print(x)\n",
    "print(y)"
   ]
  },
  {
   "cell_type": "markdown",
   "id": "ecd2a418-18b7-48e3-a9c9-f556e1c706d7",
   "metadata": {},
   "source": [
    "Bei einem mutable Objekt kann dagegen der Inhalt des Objekts geändert werden, ohne dass eine neue Referenz auf ein neues Objekt erstellt werden muss. Dadurch führt eine Änderung durch Zuweisung bei einem mutable Objekt dazu, dass alle Namen, die das ursprüngliche Objekt referenzieren den geänderten Zustand referenzieren."
   ]
  },
  {
   "cell_type": "code",
   "execution_count": null,
   "id": "ef253b14-cf74-4197-99d3-26324e413cd1",
   "metadata": {},
   "outputs": [],
   "source": [
    "x = [1]\n",
    "# Zuweisung erstellt ein neues mutable Objekt vom Typ\n",
    "# list mit einem Element vom Typ int mit dem Wert 1\n",
    "# und lässt den Namen x dieses Objekt referenzieren\n",
    "y = x\n",
    "# Zuweisung lässt den Namen y auf das gleiche Objekt\n",
    "# wie Name x zeigen (x und y referenzieren das gleiche\n",
    "# Objekt)\n",
    "x = [2]\n",
    "# da hier nicht der Inhalt des mutable Objekts geändert,\n",
    "# sondern ein neues Objekt vom Typ list mit einem\n",
    "# Element vom Typ int mit dem Wert 2 erstellt wird,\n",
    "# lässt die Zuweisung den Namen x auf das neue Objekt\n",
    "# zeigen\n",
    "# y zeigt weiterhin auf das alte Objekt\n",
    "\n",
    "print(x)\n",
    "print(y)\n",
    "\n",
    "x = [1]\n",
    "y = x\n",
    "x[0] = 2\n",
    "# hier wird der Inhalt des mutable Objekts geändert,\n",
    "# daher wird kein neues Objekt angelegt, sondern x und\n",
    "# y zeigen weiterhin auf das gleiche Objekt und dieses\n",
    "# hat einen neuen Inhalt\n",
    "\n",
    "print(x)\n",
    "print(y)"
   ]
  },
  {
   "cell_type": "markdown",
   "id": "cbe17b0c-a5f4-40a1-9fb9-240b2f392732",
   "metadata": {},
   "source": [
    "Zusammenhang zwischen Datentyp, Name und Wert:\n",
    "\n",
    "- Namen (Variablen) haben einen Gültigkeitsbereich (Scope) aber keinen Datentyp.\n",
    "- Werte (Objekte) haben einen Datentyp aber keinen Gültigkeitsbereich (Scope).\n",
    "\n",
    "Daraus folgt:\n",
    "- Übergabe von Parametern an Funktionen/Methoden immer by reference\n",
    "- entscheidend ist, ob der übergebene Wert (auf den die Referenz verweist) mutable oder immutable ist\n",
    "- \"primitive\" Typen (int, float, complex, str und bool) sind immutable\n",
    "- Daten werden nicht gelöscht, sobald ein Scope verlassen wird, sondern sobald die letzte Referenz auf die Daten verschwindet (Name geht out of scope oder wird explizit mit del gelöscht)\n",
    "- große Objekte sollten, sobald sie nicht mehr gebraucht werden, explizit mit del gelöscht werden\n",
    "\n",
    "Empfehlung zur Vertiefung: https://nedbatchelder.com/text/names.html"
   ]
  },
  {
   "cell_type": "markdown",
   "id": "53973848-f627-48ed-843b-e82fc9b6c5ca",
   "metadata": {},
   "source": [
    "### Scopes: nonlocal und global\n",
    "\n",
    "Mit den Schlüsselwörtern nonlocal und global kann auf Namen/Bezeichner aus dem umgebenden (nonlocal) oder dem globalen (global) Scope zugegriffen werden. Der globale Scope ist dabei nie eine Klasse, sondern immer das Modul."
   ]
  },
  {
   "cell_type": "code",
   "execution_count": null,
   "id": "32558a20-8c22-4b12-b5d5-4a74113e0333",
   "metadata": {},
   "outputs": [],
   "source": [
    "def scope_changes():\n",
    "    def local_change():\n",
    "        z = \"rein lokale Änderung\" # eine neue Variable z wird im lokalen Scope angelegt und mit einem neuen Objekt vom Typ str befüllt\n",
    "\n",
    "    def nonlocal_change():\n",
    "        nonlocal z\n",
    "        z = \"nicht lokale Änderung\" # die Variable z aus dem umgebenden Scope wird mit einem neuen Objekt vom Typ str befüllt\n",
    "\n",
    "    def global_change():\n",
    "        global z\n",
    "        z = \"globale Änderung\" # die Variable z aus dem globalen Scope wird mit einem neuen Objekt vom Typ str befüllt\n",
    "\n",
    "    z = \"ursprünglicher Wert\"\n",
    "    local_change()\n",
    "    print(\"nach local_change:    \" + z) # Änderung in lokalem Scope hat keine Auswirkung außerhalb des Scopes\n",
    "    nonlocal_change()\n",
    "    print(\"nach nonlocal_change: \" + z) # Änderung in lokalem Scope greift per nonlocal Schlüsselwort auf die Variable im umgebenden Scope zu\n",
    "    global_change()\n",
    "    print(\"nach global_change:   \" + z) # Änderung in lokalem Scope greift per global Schlüsselwort auf die Variable im globalen Scope zu\n",
    "\n",
    "scope_changes()\n",
    "print(\"In globalem Scope:    \" + z)"
   ]
  },
  {
   "cell_type": "markdown",
   "id": "58b62805-ab60-4e66-bbac-5bf2e6ce1fef",
   "metadata": {},
   "source": [
    "### Operatoren\n",
    "\n",
    "Vergleichsoperatoren sind im später folgenden Abschnitt bei den Kontrollstrukturen aufgeführt: [Vergleichsoperatoren](#Vergleichsoperatoren)."
   ]
  },
  {
   "cell_type": "markdown",
   "id": "89a33942-c3c4-4e1f-8c5a-02719ee9f8ac",
   "metadata": {},
   "source": [
    "#### Arithmetische Operatoren"
   ]
  },
  {
   "cell_type": "code",
   "execution_count": null,
   "id": "0a6d5e4e-5541-457e-8127-5cfa5e494494",
   "metadata": {},
   "outputs": [],
   "source": [
    "print(\"Addition:           5 + 5 = \" + str(5 + 5))\n",
    "\n",
    "print(\"Subtraktion:        5 - 5 = \" + str(5 - 5))\n",
    "\n",
    "print(\"Multiplikation:     5 * 5 = \" + str(5 * 5))\n",
    "\n",
    "print(\"Division:           5 / 5 = \" + str(5 / 5))\n",
    "\n",
    "print(\"Division:           5 / 2 = \" + str(5 / 2))\n",
    "\n",
    "print(\"Modulo:             12 % 5 = \" + str(12 % 5))\n",
    "\n",
    "print(\"Exponentiation:     2 ** 3 = \" + str(2 ** 3))\n",
    "\n",
    "print(\"Division ohne Rest: 5 // 2 = \" + str(5 // 2))"
   ]
  },
  {
   "cell_type": "markdown",
   "id": "fa85711f-a248-4722-8034-57c886726fb3",
   "metadata": {},
   "source": [
    "#### Bitweise Operatoren"
   ]
  },
  {
   "cell_type": "code",
   "execution_count": null,
   "id": "fb21310d-79bd-4746-b118-6ec307b9845b",
   "metadata": {},
   "outputs": [],
   "source": [
    "print(\"AND:                  3 & 1 = \" + str(3 & 1)) # 0001 = 0011 & 0001\n",
    "\n",
    "print(\"OR:                   3 | 1 = \" + str(3 | 1)) # 0011 = 0011 | 0001\n",
    "\n",
    "print(\"XOR:                  3 ^ 1 = \" + str(3 ^ 1)) # 0010 = 0011 | 0001\n",
    "\n",
    "print(\"NOT:                  ~3 = \" + str(~3)) # 1100 = ~0011 (Vorzeichen-Bit wird gesetzt und negative Zahlen beginnen bei -1)\n",
    "\n",
    "print(\"Zero fill left shift: 1 << 2 = \" + str(1 << 2)) # 0100 = 0001 << 2\n",
    "\n",
    "print(\"Zero fill left shift: -1 << 2 = \" + str(-1 << 2)) # 0100 = 0001 << 2 (Vorzeichen-Bit wird nicht verändert)\n",
    "\n",
    "print(\"Signed right shift:   4 >> 1 = \" + str(4 >> 1)) # 0010 = 0100 >> 1\n",
    "\n",
    "print(\"Signed right shift:   -4 >> 1 = \" + str(-4 >> 1)) # 0010 = 0100 >> 1 (Vorzeichen-Bit wird nicht verschoben)"
   ]
  },
  {
   "cell_type": "markdown",
   "id": "c1740e13-405b-4a76-9636-ca57ed6fdebe",
   "metadata": {},
   "source": [
    "#### Zuweisungen"
   ]
  },
  {
   "cell_type": "code",
   "execution_count": null,
   "id": "1a9475fd-d41d-461e-b555-b5c6cbe815ba",
   "metadata": {},
   "outputs": [],
   "source": [
    "x = 5\n",
    "print(\"x = 5: x = \" + str(x))\n",
    "\n",
    "x, y = (5, 7) # Anzahl der Variablen auf der linken Seite muss zur Anzahl der Elemente auf der rechten Seite des Gleich-Zeichens passen\n",
    "print(\"x, y = (5, 7): x = \" + str(x) + \", y = \" + str(y))\n",
    "\n",
    "x, y, z = [7, 8, 9] # Anzahl der Variablen auf der linken Seite muss zur Anzahl der Elemente auf der rechten Seite des Gleich-Zeichens passen\n",
    "print(\"x, y, z = [7, 8, 9]: x = \" + str(x) + \", y = \" + str(y) + \", z = \" + str(z))\n",
    "\n",
    "x += 7 # entspricht: x = x + 7\n",
    "print(\"x += 7: x = \" + str(x))\n",
    "\n",
    "x -= 4 # entspricht: x = x - 4\n",
    "print(\"x -= 4: x = \" + str(x))\n",
    "\n",
    "x *= 2 # entspricht: x = x * 2\n",
    "print(\"x *= 2: x = \" + str(x))\n",
    "\n",
    "x /= 5 # entspricht: x = x / 5\n",
    "print(\"x /= 5: x = \" + str(x)) # Division ändert automatisch den Datentyp des Objekts auf float\n",
    "\n",
    "x %= 3 # entspricht: x = x % 3\n",
    "print(\"x %= 3: x = \" + str(x))\n",
    "\n",
    "x //= 0.3 # entspricht: x = x // 0.3\n",
    "print(\"x //= 0.3: x = \" + str(x))\n",
    "\n",
    "x **= 2 # entspricht: x = x ** 2\n",
    "print(\"x **= 2: x = \" + str(x))\n",
    "\n",
    "y &= 9 # entspricht: y = y & 9; 1000 = 1000 & 1001\n",
    "print(\"y &= 9: y = \" + str(y))\n",
    "\n",
    "y |= 9 # entspricht: y = y | 9; 1001 = 1000 | 1001\n",
    "print(\"y |= 9: y = \" + str(y))\n",
    "\n",
    "y ^= 8 # entspricht: y = y ^ 8; 0001 = 1001 ^ 1000\n",
    "print(\"y ^= 8: y = \" + str(y))\n",
    "\n",
    "y <<= 2 # entspricht: y = y << 2; 0100 = 0001 << 2\n",
    "print(\"y <<= 2: y = \" + str(y))\n",
    "\n",
    "y >>= 1 # entspricht: y = y >> 1; 0100 = 0010 >> 1\n",
    "print(\"y >>= 1: y = \" + str(y))"
   ]
  },
  {
   "cell_type": "markdown",
   "id": "7007f4c6-b4fe-4260-8654-cb6194a4b22b",
   "metadata": {},
   "source": [
    "### Kontrollstrukturen\n",
    "\n",
    "Einrückung und Umbruch ist Teil der Syntax. Neue Anweisungs-Blöcke/Scopes werden mit eine Anweisung gefolgt von einem Doppelpunkt eingeleitet. Jede Anweisung innerhalb des Blocks/Scopes ist eine Ebene eingerückt."
   ]
  },
  {
   "cell_type": "markdown",
   "id": "c6ee0fa1-598f-45c7-957f-55848d7a0e04",
   "metadata": {},
   "source": [
    "#### if, elif und else"
   ]
  },
  {
   "cell_type": "code",
   "execution_count": null,
   "id": "1516559e-e2c9-4c6e-acff-8c63199bfc57",
   "metadata": {},
   "outputs": [],
   "source": [
    "a = 1\n",
    "b = 2\n",
    "\n",
    "if a < b:\n",
    "    print(\"a ist kleiner als b\")\n",
    "    print(\"weitere Ausgabe abhängig von if-statement\")\n",
    "elif a == b:\n",
    "    print(\"a ist gleich b\")\n",
    "else:\n",
    "    print(\"a ist größer als b\")"
   ]
  },
  {
   "cell_type": "markdown",
   "id": "7ee6176a-090e-4958-a5c2-1c082bf70816",
   "metadata": {},
   "source": [
    "#### Vergleichsoperatoren"
   ]
  },
  {
   "cell_type": "markdown",
   "id": "85d96a39-9475-4128-aaf4-3125236c94ef",
   "metadata": {},
   "source": [
    "##### Inhaltsvergleich\n",
    "\n",
    "Vergleichsoperatoren für Inhalt von Variablen/Datenstrukturen (Vergleichen immer den dereferenzierten Inhalt und nie die Speicheradresse):\n",
    "\n",
    "| Operator |                |\n",
    "|-----|----------------|\n",
    "| <   | kleiner als    |\n",
    "| <=  | kleiner gleich |\n",
    "| \\>  | größer als     |\n",
    "| \\>= | größer gleich  |\n",
    "| ==  | gleich         |\n",
    "| !=  | ungleich       |"
   ]
  },
  {
   "cell_type": "markdown",
   "id": "9819c325-81fb-4087-a784-d8dcadd9626a",
   "metadata": {},
   "source": [
    "##### Adressvergleich\n",
    "\n",
    "Vergleichsoperatoren für Speicheradressen (Objekt-Pointer):\n",
    "\n",
    "|Operator |                              |\n",
    "|---------|------------------------------|\n",
    "| is      | ist Speicheradresse gleich   |\n",
    "| is not  | ist Speicheradresse ungleich |"
   ]
  },
  {
   "cell_type": "code",
   "execution_count": null,
   "id": "42e0413a-6b49-440a-aba5-3b646dfa521d",
   "metadata": {},
   "outputs": [],
   "source": [
    "a = [1, 2]\n",
    "b = [1, 2]\n",
    "c = a\n",
    "\n",
    "if a is b:\n",
    "    print(\"a und b referenzieren den gleichen Speicher\")\n",
    "elif a == b:\n",
    "    print(\"a und b haben den gleichen Inhalt\")\n",
    "else:\n",
    "    print(\"a und b haben unterschiedlichen Inhalt\")\n",
    "\n",
    "if a is c:\n",
    "    print(\"a und c referenzieren den gleichen Speicher\")"
   ]
  },
  {
   "cell_type": "markdown",
   "id": "46c530ae-82c0-473f-94ee-ff020d433848",
   "metadata": {},
   "source": [
    "##### Vergleichsoperatoren für Aufzählungen\n",
    "\n",
    "Operatoren um zu prüfen ob Elemente in einer Aufzählung sind.\n",
    "\n",
    "| Operator |                                 |\n",
    "|----------|---------------------------------|\n",
    "| in       | ist Element in Aufzählung       |\n",
    "| not in   | ist Element nicht in Aufzählung |"
   ]
  },
  {
   "cell_type": "code",
   "execution_count": null,
   "id": "2bd7ad55-727a-4b9e-be00-344d4b8434cd",
   "metadata": {},
   "outputs": [],
   "source": [
    "some_list = ['a','b','c']\n",
    "some_item = \"a\"\n",
    "\n",
    "if some_item in some_list:\n",
    "    print(\"a ist enthalten\")\n",
    "else:\n",
    "    print(\"a ist nicht enthalten\")\n",
    "\n",
    "if \"d\" not in some_list:\n",
    "    print(\"d ist nicht enthalten\")"
   ]
  },
  {
   "cell_type": "markdown",
   "id": "c79b37ee-4d8b-4335-b52a-e2431e590b35",
   "metadata": {},
   "source": [
    "Die folgenden Beispiele zeigen, wie mit dem in Operator, auf for-Schleifen basierenden Generatoren und den Funktionen any und all die Existenz mehrerer Elemente in einer Aufzählung überprüft werden kann.\n",
    "\n",
    "Sowohl for-Schleifen als auch Generatoren werden später behandelt:\n",
    "\n",
    "[Weitere Informationen zu for-Schleifen](#for)\n",
    "\n",
    "[Weitere Informationen zu Generatoren](#Generator-Funktionen)"
   ]
  },
  {
   "cell_type": "code",
   "execution_count": null,
   "id": "a69c8249-a6d0-4a51-94c3-9d9c5b23b316",
   "metadata": {},
   "outputs": [],
   "source": [
    "some_list = ['a','b','c']\n",
    "\n",
    "for i in (i for i in ('a', 'b')): # for Schleife als Generator, der in einer weiteren for Schleife verarbeitet wird\n",
    "    print(i)\n",
    "\n",
    "if all(i in some_list for i in ('a', 'b')):\n",
    "    print(\"a und b sind enthalten\")\n",
    "\n",
    "if all(i in some_list for i in ('a', 'c')):\n",
    "    print(\"a und c sind enthalten\")\n",
    "\n",
    "if all(i in some_list for i in ('a', 'd')): # d ist nicht in some_list: i in some_list ist für 'b' False => all gibt False zurück\n",
    "    print(\"a und d sind enthalten\")\n",
    "\n",
    "if any(i in some_list for i in ('a', 'd')): # a ist enthalten: any gibt schon bei einem True im Generator True zurück\n",
    "    print(\"a oder d sind enthalten\")"
   ]
  },
  {
   "cell_type": "markdown",
   "id": "78fa6d3a-5a44-419f-9b1f-51713e4c3cc8",
   "metadata": {},
   "source": [
    "##### Boolsche Operatoren\n",
    "\n",
    "| Operator |                              |\n",
    "|----------|------------------------------|\n",
    "| not      | negiert einen Wahrheitswert  |\n",
    "| and      | sind beide Werte True        |\n",
    "| or       | ist mindestens ein Wert True |"
   ]
  },
  {
   "cell_type": "code",
   "execution_count": null,
   "id": "7d07c22c-af62-4a7d-83d1-68066308412a",
   "metadata": {},
   "outputs": [],
   "source": [
    "a = [1, 2]\n",
    "b = [1, 2]\n",
    "\n",
    "if not(a < b) and not(a > b):\n",
    "    print(\"a ist gleich b\")\n",
    "elif a == 0 or a < b:\n",
    "    print(\"a ist 0 oder kleiner als b\")\n",
    "\n",
    "a = 0\n",
    "\n",
    "# a ist ein int, b ist eine list => Vergleich ist nicht durchführbar\n",
    "#if not(a < b) and not(a > b):\n",
    "#    print(\"a ist gleich b\")\n",
    "#elif a == 0 or a < b:\n",
    "#    print(\"a ist 0 oder kleiner als b\")\n",
    "\n",
    "b = -1\n",
    "\n",
    "if not(a < b) and not(a > b):\n",
    "    print(\"a ist gleich b\")\n",
    "elif a == 0 or a < b:\n",
    "    print(\"a ist 0 oder kleiner als b\")"
   ]
  },
  {
   "cell_type": "markdown",
   "id": "b2754cf4-c3f3-42e1-bb14-7e6c4d7f5924",
   "metadata": {},
   "source": [
    "##### Vergleich von Datentypen\n",
    "\n",
    "Vergleich von Objekten mittels type, isinstance und issubclass:\n",
    "\n",
    "type() gibt den Datentyp eines Objekts zurück. Ein Vergleich zweier Objekte mittels type() prüft, ob zwei Objekte den gleichen Typ haben, ohne dabei Vererbung von Klassen zu berücksichtigen. Ist gefragt, ob ein Objekt vom Typ einer Klasse oder einer von dieser abgeleiteten Klasse ist, so ist type() nicht das richtige Werkzeug. In diesem Fall muss isinstance geutzt werden. isinstance prüft, ob ein Objekt vom Typ einer Klasse A oder einer von A abgeleiteten Klasse B ist. Mittels issubclass können zwei Klassen miteinander verglichen werden, ohne dass hierfür ein Objekt aus den Klassen erstellt werden muss. issubclass prüft, ob eine Klasse von einer anderen Klasse abgeleitet wurde.\n",
    "\n",
    "Klassen werden später behandelt: [Weitere Informationen zu Klassen](#Klassen)"
   ]
  },
  {
   "cell_type": "code",
   "execution_count": null,
   "id": "e5e97d55-437d-4758-93f2-02d5a53472c8",
   "metadata": {},
   "outputs": [],
   "source": [
    "class base1:\n",
    "    pass\n",
    "class base2:\n",
    "    pass\n",
    "class sub(base1):\n",
    "    pass\n",
    "\n",
    "a = base1()\n",
    "b = base2()\n",
    "c = sub()\n",
    "\n",
    "if type(a) is base1:\n",
    "    print(\"a ist vom Typ base1\")\n",
    "if type(c) is base1:\n",
    "    print(\"c ist vom Typ base1\")\n",
    "if isinstance(c, base1):\n",
    "    print(\"c ist vom Typ base1 oder von einem von base1 abgeleiteten Typ\")\n",
    "if isinstance(b, (base1, base2)):\n",
    "    print(\"b ist vom Typ base1, vom Typ base2 oder von einem von base1/base2 abgeleiteten Typ\")\n",
    "if issubclass(sub, base1):\n",
    "    print(\"sub ist von base1 abgeleitet\")"
   ]
  },
  {
   "cell_type": "markdown",
   "id": "8f0299e5-cf87-4308-96b3-3b7a4baef5e6",
   "metadata": {},
   "source": [
    "#### Schleifen\n",
    "\n",
    "Python kennt zwei Arten von Schleifen: while und for. "
   ]
  },
  {
   "cell_type": "markdown",
   "id": "cad14fe7-7bf3-4945-b098-02a07dd94591",
   "metadata": {},
   "source": [
    "##### while\n",
    "\n",
    "while-Schleifen wiederholen einen Anweisungsblock solange eine Bedingung wahr ist. Sobald die Bedingung als falsch (False) evaluiert wird, wird der optionale else-Zweig der Schleife ausgeführt und die Schleife anschließend verlassen. Eine einzelne Wiederholung kann mittels continue abgebrochen werden. Nach einem Abbruch mittels continue wird wieder die Bedingung überprüft und entsprechend dem Ergebnis die Verarbeitung entweder mit der nächsten Wiederholung oder dem else-Zweig (sofern ein solcher vorhanden ist) fortgesetzt. Mit break kann die gesamte Schleife abgebrochen werden. In einem solchen Fall wird nicht erneut die Bedingung überprüft. Dementsprechend kann nach einem break der Else-Zweig nicht erreicht werden."
   ]
  },
  {
   "cell_type": "code",
   "execution_count": null,
   "id": "aac8bceb-e747-4520-8ab1-af2741beddba",
   "metadata": {},
   "outputs": [],
   "source": [
    "x = 0\n",
    "while x < 10:\n",
    "#    if x == 1:\n",
    "#        x += 1\n",
    "#        continue\n",
    "#    elif x == 8:\n",
    "#        break\n",
    "    print(x)\n",
    "    x += 1\n",
    "else:\n",
    "    print(\"x == 10, wird aufgrund von break evtl. nicht erreicht\")"
   ]
  },
  {
   "cell_type": "markdown",
   "id": "d8af8393-5c64-43fb-930c-705158a78924",
   "metadata": {},
   "source": [
    "##### for\n",
    "\n",
    "for-Schleifen führen einen Anweisungsblock für jedes Element in einer Aufzählung oder einer Menge durch. Sobald der Anweisungsblock für jedes Element durchgeführt wurde, wird der optionale Else-Zweig ausgeführt und die Schleife anschließend verlassen. Die Ausführung des Anweisungsblocks kann mittels continue für ein einzelnes Element abgebrochen werden. Nach einem solchen Abbruch wird entweder der Anweisungsblock für das nächsten Element ausgeführt, oder, falls es kein weiteres Element gibt, der Else-Zweig ausgeführt und die Schleife beendet. Mit einem break kann die gesamte Schleife abgebrochen werden. Dabei wird der Else-Zweig nicht ausgeführt."
   ]
  },
  {
   "cell_type": "code",
   "execution_count": null,
   "id": "9bb22b18-1a41-4ee3-8663-a17cccbb153e",
   "metadata": {},
   "outputs": [],
   "source": [
    "seq = ['a','b','c']\n",
    "for item in seq:\n",
    "    print(item)"
   ]
  },
  {
   "cell_type": "code",
   "execution_count": null,
   "id": "a1cfdb4a-de0c-4299-aa21-fe078ae8a077",
   "metadata": {},
   "outputs": [],
   "source": [
    "for n in range(2):\n",
    "    print(n)"
   ]
  },
  {
   "cell_type": "code",
   "execution_count": null,
   "id": "7606444a-2023-4b84-874b-a11f1980dcab",
   "metadata": {},
   "outputs": [],
   "source": [
    "for n in range(5,7):\n",
    "    print(n)"
   ]
  },
  {
   "cell_type": "code",
   "execution_count": null,
   "id": "bdf631d6-ea4f-46d2-9a9a-f70191814af4",
   "metadata": {},
   "outputs": [],
   "source": [
    "for n in range(0,5,2):\n",
    "    print(n)"
   ]
  },
  {
   "cell_type": "code",
   "execution_count": null,
   "id": "bff35908-9ebf-4ebe-93a8-6c51548e2b63",
   "metadata": {},
   "outputs": [],
   "source": [
    "for n in range(4,-1,-2):\n",
    "    print(n)"
   ]
  },
  {
   "cell_type": "code",
   "execution_count": null,
   "id": "ff0af65a-74a0-475d-b2ee-985cd6e051a3",
   "metadata": {},
   "outputs": [],
   "source": [
    "seq = ['a','b','c']\n",
    "for i, item in enumerate(seq):\n",
    "    print(\"{}: {}\".format(i, item))"
   ]
  },
  {
   "cell_type": "code",
   "execution_count": null,
   "id": "6e687eb3-8640-48b4-9d41-56b8755a3b46",
   "metadata": {},
   "outputs": [],
   "source": [
    "seq = ['a','b','c']\n",
    "for i, item in enumerate(seq, start=1):\n",
    "    print(\"{}: {}\".format(i, item))"
   ]
  },
  {
   "cell_type": "code",
   "execution_count": null,
   "id": "e4b7a724-5883-4f04-bb1a-b0c5f694290a",
   "metadata": {},
   "outputs": [],
   "source": [
    "seq = ['a','b','c']\n",
    "values = [97,98,99]\n",
    "for ascii_char, code in zip(seq, values):\n",
    "    print(\"{}: {}\".format(ascii_char, code))"
   ]
  },
  {
   "cell_type": "code",
   "execution_count": null,
   "id": "ce867a57-b986-4e1a-873c-0af0c2df2859",
   "metadata": {},
   "outputs": [],
   "source": [
    "for i in range(4):\n",
    "    print(i)\n",
    "else:\n",
    "    print(4)"
   ]
  },
  {
   "cell_type": "code",
   "execution_count": null,
   "id": "12b64d9a-ddda-463d-b658-e6df1c263a59",
   "metadata": {},
   "outputs": [],
   "source": [
    "for i in range(4):\n",
    "    print(i)\n",
    "    if i == 3:\n",
    "        break\n",
    "else:\n",
    "    print(4)"
   ]
  },
  {
   "cell_type": "markdown",
   "id": "b4a08575-1e56-4567-8e23-089268adfef5",
   "metadata": {},
   "source": [
    "### Index und Slice\n",
    "\n",
    "Mittels eines positiven Index kann auf Elemente ausgehend vom ersten und mittels eines negativen Index auf Elemente ausgehend vom letzten Element zugegriffen werden. Siehe hierzu nachfolgende Tabelle.\n",
    "\n",
    "Anstelle von einzelnen Elementen können auch Bereiche (Slices) anhand eines Start- und eines End-Index ausgewählt werden. Stammen diese Bereiche aus einem mutable Objekt, so kann der Slice auch für ein Update oder eine Änderung des Bereichs genutzt werden. Dabei müssen die geänderten Daten nicht die gleiche Anzahl an Elementen wie die Ursprungsdaten haben.\n",
    "Neben dem Start- und End-Index kann auch noch eine Schrittweite angegeben werden. Mit dieser kann jedes n-te Element im ausgewählten Bereich selektiert werden. Ein Update auf einen Slice mit Schrittweite ungleich eins ist allerdings nur dann möglich, wenn die Anzahl der neuen/geänderten Elemente exakt der Anzahl der selektierten Elemente entspricht."
   ]
  },
  {
   "cell_type": "markdown",
   "id": "f964f2cf-199f-4ddc-96c2-71c7c4c20834",
   "metadata": {},
   "source": [
    "| Aufzählung (list, tuple, range) oder Text (str) |t |e |s |t |\n",
    "|-------------------------------------------------|--|--|--|--|\n",
    "| Index ausgehend von erstem Element              | 0| 1| 2| 3|\n",
    "| Index ausgehend von letztem Element             |-4|-3|-2|-1|"
   ]
  },
  {
   "cell_type": "code",
   "execution_count": null,
   "id": "19bf624e-c152-4a7c-8dbd-5e9765737489",
   "metadata": {},
   "outputs": [],
   "source": [
    "x = \"test\"\n",
    "print(\"Index 1 referenziert das zweite Element: \" + str(x[1]))\n",
    "print(\"Index -2 referenziert das vorletzte Element: \" + str(x[-2]))"
   ]
  },
  {
   "cell_type": "code",
   "execution_count": null,
   "id": "a30f37e9-fdf9-41eb-9b06-e93e2793da3b",
   "metadata": {},
   "outputs": [],
   "source": [
    "x = (\"t\",\"e\",\"s\",\"t\")\n",
    "print(\"Index 1 referenziert das zweite Element: \" + str(x[1]))\n",
    "print(\"Index -2 referenziert das vorletzte Element: \" + str(x[-2]))"
   ]
  },
  {
   "cell_type": "code",
   "execution_count": null,
   "id": "288d68e5-6d44-43dc-b5b1-8417a280e730",
   "metadata": {},
   "outputs": [],
   "source": [
    "x = (\"t\",\"e\",\"s\",\"t\")\n",
    "# Zugriffe außerhalb des gültigen Bereichs führen zu einem Laufzeitfehler\n",
    "#x = x[4]\n",
    "#x = x[-5]"
   ]
  },
  {
   "cell_type": "code",
   "execution_count": null,
   "id": "8469e17e-ac90-4820-9657-519aa3141310",
   "metadata": {},
   "outputs": [],
   "source": [
    "x = [\"t\",\"e\",\"s\",\"t\"] # mutable\n",
    "print(x)\n",
    "x[0] = \"r\"\n",
    "print(x)\n",
    "x[-1] = \"u\"\n",
    "print(x)"
   ]
  },
  {
   "cell_type": "code",
   "execution_count": null,
   "id": "0fd4457c-c06e-4910-800d-e3420dff0268",
   "metadata": {},
   "outputs": [],
   "source": [
    "x = \"dies ist ein Test\"\n",
    "print(\"Slice vom Beginn bis exklusive Index 4: \" + x[:4])\n",
    "print(\"Slice von Index 5 bis exklusive Index 8: \" + x[5:8])\n",
    "print(\"Slice von Index 9 bis exklusive Index -5: \" + x[9:-5])\n",
    "print(\"Slice von Index -4 bis zum Ende: \" + x[-4:])\n",
    "print(\"Slice vom Beginn bis zum Ende, aber nur jedes zweite Element : \" + x[::2])"
   ]
  },
  {
   "cell_type": "code",
   "execution_count": null,
   "id": "fa3eaa55-2c12-4795-9554-23400764693b",
   "metadata": {},
   "outputs": [],
   "source": [
    "x = \"dies ist ein Test\"\n",
    "# ein Slice außerhalb des gültigen Bereichs führt nicht zu einem Fehler!\n",
    "print(\"Slice vom Beginn bis exklusive Index 4: \" + x[13:20])\n",
    "print(\"Slice vom Beginn bis exklusive Index 4: \" + x[20:25])"
   ]
  },
  {
   "cell_type": "code",
   "execution_count": null,
   "id": "e8a32c41-4223-4897-90dc-6d0a0b03d957",
   "metadata": {},
   "outputs": [],
   "source": [
    "x = bytearray(b\"dies ist ein Test\") # wir brauchen ein mutable Objekt\n",
    "\n",
    "x[0:2] = b\"Dies\"\n",
    "print(x)\n",
    "\n",
    "x[-4:] = b\"Automobil\"\n",
    "print(x)\n",
    "\n",
    "x[11:11] = b\"k\"\n",
    "print(x)"
   ]
  },
  {
   "cell_type": "code",
   "execution_count": null,
   "id": "54859cbd-c4a4-4b42-93fb-1759bc6280cb",
   "metadata": {},
   "outputs": [],
   "source": [
    "x = [1,2,3,4,5,6,7] # wir brauchen ein mutable Objekt\n",
    "\n",
    "x[-2:] = (8,9,10)\n",
    "print(x)\n",
    "\n",
    "x[:] = []\n",
    "print(x)"
   ]
  },
  {
   "cell_type": "code",
   "execution_count": null,
   "id": "60a48ecc-c7e0-426e-83e3-ca1049d19bf5",
   "metadata": {},
   "outputs": [],
   "source": [
    "x = (1,2,3,4,5,6,7)\n",
    "s = slice(None,None,2)\n",
    "\n",
    "print(x[s])"
   ]
  },
  {
   "cell_type": "code",
   "execution_count": null,
   "id": "f16da50f-a0dc-4ac8-8314-9c9ff72ea28f",
   "metadata": {},
   "outputs": [],
   "source": [
    "x = [1,2,3,4,5,6,7] # wir brauchen ein mutable Objekt\n",
    "s = slice(None,None,2)\n",
    "\n",
    "x[s] = (9,9,9,9) # ein \"extended\" Slice benötigt die passende Anzahl an Elementen zum Ersetzen\n",
    "#x[s] = (9,9) # Fehler, da 2 statt 4 Elemente zum Ersetzen\n",
    "print(x)"
   ]
  },
  {
   "cell_type": "markdown",
   "id": "8fbfc185-30e7-4a9a-90a9-1e036ea471f0",
   "metadata": {},
   "source": [
    "### Funktionen\n",
    "\n",
    "Funktionen werden in Python grundsätzlich ohne Datentyp für die Parameter oder den Return-Wert definiert. Die Datentypen werden zur Laufzeit durch die übergebenen Objekte festgelegt und können dann geprüft werden.\n",
    "\n",
    "Anstelle einer solchen Überprüfung verlässt man sich in Python gerne auf die Laufzeitumgebung: wird zur Laufzeit ein Objekt an die Funktion übergeben, welches für alle in der Funktion genutzten Operatoren und Objekt-Methoden-Aufrufe eine passende Implementierung aufweist, so kann das Objekt erfolgreich verarbeitet werden. Wird stattdessen ein unpassendes Objekt übergeben, so wird ein entsprechender Fehler geworfen sobald eine nicht implementierte Operation durchgeführt wird. Somit kann eine Funktion automatisch unterschiedliche Datentypen verarbeiten (Duck Typing; siehe auch unten)."
   ]
  },
  {
   "cell_type": "markdown",
   "id": "79ce7bb6-bfce-4054-828c-6d9221a810eb",
   "metadata": {},
   "source": [
    "#### ohne Parameter und Return-Wert"
   ]
  },
  {
   "cell_type": "code",
   "execution_count": null,
   "id": "c2a64d0c-e3a5-4136-9647-7eabe8966fe6",
   "metadata": {},
   "outputs": [],
   "source": [
    "def print_something():\n",
    "    print(\"something\")\n",
    "\n",
    "print_something() # Aufruf der oben definierten Funktion"
   ]
  },
  {
   "cell_type": "markdown",
   "id": "ef7bf043-4f5f-4c58-9715-7bf9bbfd589d",
   "metadata": {},
   "source": [
    "#### Parameter"
   ]
  },
  {
   "cell_type": "code",
   "execution_count": null,
   "id": "e89c0238-e0ba-4025-8c7a-641bc9cca9a9",
   "metadata": {},
   "outputs": [],
   "source": [
    "def print_value(i):\n",
    "    print(\"value: \" + str(i))\n",
    "\n",
    "# Duck Typing: \"If it looks like a duck and quacks like a duck, it’s a duck\"\n",
    "#\n",
    "# jede Variable und jedes Objekt kann an die print_value Funktion übergeben werden,\n",
    "# solange die Funktion str() für den übergebenen Wert definiert ist\n",
    "#\n",
    "# => der Datentyp eines Parameters ist nicht wichtig, solange die Eigenschaften/Methoden passen\n",
    "print_value(2)\n",
    "print_value(2.0)\n",
    "print_value(\"2\")"
   ]
  },
  {
   "cell_type": "markdown",
   "id": "49ef98f8-d4b3-4aca-8905-ba1530bc9c76",
   "metadata": {},
   "source": [
    "#### default-Parameter"
   ]
  },
  {
   "cell_type": "code",
   "execution_count": null,
   "id": "a5d5a4be-43d4-4ca5-a89d-19151690d64f",
   "metadata": {},
   "outputs": [],
   "source": [
    "def print_default(i = 10):\n",
    "    print(\"value: \" + str(i))\n",
    "\n",
    "print_default(2)\n",
    "print_default()"
   ]
  },
  {
   "cell_type": "markdown",
   "id": "40708baa-42b6-4e46-8487-0e80e1baa743",
   "metadata": {},
   "source": [
    "#### variable Parameter Anzahl "
   ]
  },
  {
   "cell_type": "code",
   "execution_count": null,
   "id": "59c3350e-9362-4bcf-b252-2bef4ed90b70",
   "metadata": {},
   "outputs": [],
   "source": [
    "def print_multiple_values(*values):\n",
    "    for v in values:\n",
    "        print(v)\n",
    "\n",
    "print_multiple_values(1, 2, 3, 4, \"finish\")"
   ]
  },
  {
   "cell_type": "markdown",
   "id": "55993d92-dc64-419b-aab2-61306ac2e496",
   "metadata": {},
   "source": [
    "#### Return-Wert"
   ]
  },
  {
   "cell_type": "code",
   "execution_count": null,
   "id": "28dd1579-71eb-4b5e-82fd-471d4a756212",
   "metadata": {},
   "outputs": [],
   "source": [
    "def get_string(i):\n",
    "    return \"value: \" + str(i)\n",
    "\n",
    "print(get_string(42))"
   ]
  },
  {
   "cell_type": "code",
   "execution_count": null,
   "id": "e71b9e52-722c-4053-810e-3e7f28ca1c2f",
   "metadata": {},
   "outputs": [],
   "source": [
    "def get_multiple_values(i):\n",
    "    return i, \"value: \" + str(i) # erstellt ein tuple (i, \"value: \" + str(i)) und gibt dieses zurück\n",
    "\n",
    "i = get_multiple_values(42) # weist das tuple einer Variablen zu\n",
    "print(i)\n",
    "\n",
    "i, s = get_multiple_values(42) # weist die Elemente des tuples unterschiedlichen Variablen zu\n",
    "print(i)\n",
    "print(s)"
   ]
  },
  {
   "cell_type": "markdown",
   "id": "8c6b164e-5cd8-4bc1-bd79-bf04942039da",
   "metadata": {},
   "source": [
    "#### Funktion im Scope einer Funktion"
   ]
  },
  {
   "cell_type": "code",
   "execution_count": null,
   "id": "947dc959-cd16-4926-a7b5-85ced6aea2f2",
   "metadata": {},
   "outputs": [],
   "source": [
    "def outer(i):\n",
    "    def inner(i):\n",
    "        print(\"value: \" + str(i))\n",
    "    inner(i)\n",
    "\n",
    "outer(42)\n",
    "#inner(42) # ist in diesem Scope nicht bekannt: führt zu einem Fehler"
   ]
  },
  {
   "cell_type": "markdown",
   "id": "2d208b73-7d37-4158-bd45-ffdec77b4b55",
   "metadata": {},
   "source": [
    "#### Funktion als Variable"
   ]
  },
  {
   "cell_type": "code",
   "execution_count": null,
   "id": "eaabc16d-5583-4b99-be91-9d98bcbf924e",
   "metadata": {},
   "outputs": [],
   "source": [
    "def function(i):\n",
    "    print(\"value: \" + str(i))\n",
    "\n",
    "f = function\n",
    "f(42)"
   ]
  },
  {
   "cell_type": "markdown",
   "id": "f34b68f5-e771-4d43-ab89-5f3575ed2901",
   "metadata": {},
   "source": [
    "#### Funktion als Parameter"
   ]
  },
  {
   "cell_type": "code",
   "execution_count": null,
   "id": "fe03c2db-bb48-431d-81cb-faa4aee666ce",
   "metadata": {},
   "outputs": [],
   "source": [
    "def get_string(i):\n",
    "    return \"value: \" + str(i)\n",
    "\n",
    "def call_other_function(func, param):\n",
    "    print(\"return \" + func(param))\n",
    "\n",
    "call_other_function(get_string, 42)"
   ]
  },
  {
   "cell_type": "markdown",
   "id": "3b7a802f-0b6b-49a4-baf2-f7de035ad4cc",
   "metadata": {},
   "source": [
    "#### Keyword Arguments\n",
    "\n",
    "Keyword Arguments ermöglichen eine beliebige Reihenfolge der Parameter und sind zusammen mit Default Werten eine Möglichkeit Funktionen zu erweitern, ohne bestehende Funktionsaufrufe anpassen zu müssen. Z.B. kann der folgende Funktionsaufruf auch dann noch genutzt werden, wenn call_other_function um einen Parameter mit Default-Wert zwischen func und param erweitert wurder: call_other_function(func, repeat=1, param)"
   ]
  },
  {
   "cell_type": "code",
   "execution_count": null,
   "id": "d2dc5f8a-6fed-44ad-ab91-8964d57876ef",
   "metadata": {},
   "outputs": [],
   "source": [
    "def get_string(i):\n",
    "    return \"value: \" + str(i)\n",
    "\n",
    "def call_other_function(func, param):\n",
    "    print(\"return \" + func(param))\n",
    "\n",
    "call_other_function(param=42, func=get_string)"
   ]
  },
  {
   "cell_type": "markdown",
   "id": "688cd26f-638d-48f4-bacd-ce128e99fbe4",
   "metadata": {},
   "source": [
    "#### variable Keyword Parameter Anzahl"
   ]
  },
  {
   "cell_type": "code",
   "execution_count": null,
   "id": "ead7a12c-0392-43bc-ba92-ddbf441997f5",
   "metadata": {},
   "outputs": [],
   "source": [
    "def print_multiple_values(**values):\n",
    "    for v in values:\n",
    "        print(str(v) + \": \" + str(values[v]))\n",
    "\n",
    "print_multiple_values(a = 1, b = 2, c = 3, d = 4, e = \"finish\")"
   ]
  },
  {
   "cell_type": "markdown",
   "id": "5bad3520-9c11-4381-b3ad-a2dd65b00c2c",
   "metadata": {},
   "source": [
    "#### variable Parameter und Keyword Parameter Anzahl"
   ]
  },
  {
   "cell_type": "code",
   "execution_count": null,
   "id": "60fecbda-981b-4bfa-b9e7-b4c202757e35",
   "metadata": {},
   "outputs": [],
   "source": [
    "def print_multiple_values(*values, **kwvalues):\n",
    "    for v in values:\n",
    "        print(v)\n",
    "    for v in kwvalues:\n",
    "        print(str(v) + \": \" + str(kwvalues[v]))\n",
    "\n",
    "print_multiple_values(1, 2, \"test\", a = 1, b = 2, c = 3, d = 4, e = \"finish\")"
   ]
  },
  {
   "cell_type": "markdown",
   "id": "41c928aa-c882-4b1c-bd68-4f37c7517ef9",
   "metadata": {},
   "source": [
    "#### Typ Annotation"
   ]
  },
  {
   "cell_type": "code",
   "execution_count": null,
   "id": "a33ac98b-9745-4219-8f35-01ce376e40dd",
   "metadata": {},
   "outputs": [],
   "source": [
    "def call_with_type_annotation(a:int, b:int) -> int:\n",
    "    return a + b\n",
    "\n",
    "print(call_with_type_annotation(1, 2))\n",
    "print(call_with_type_annotation(1.1, 2.0)) # die Type-Annotation ist nur ein Hinweis an den Entwickler (sie hat keine tatsächlichen Auswirkungen)"
   ]
  },
  {
   "cell_type": "markdown",
   "id": "c611cc55-2693-4382-a6db-15a2c21ea264",
   "metadata": {},
   "source": [
    "#### Funktionen und mutable Parameter"
   ]
  },
  {
   "cell_type": "code",
   "execution_count": null,
   "id": "48509731-a3b4-4c7a-a08c-22cf7beb579b",
   "metadata": {},
   "outputs": [],
   "source": [
    "def mutable_param(some_list):\n",
    "    some_list[0] = 42\n",
    "\n",
    "some_list = [7]\n",
    "print(some_list)\n",
    "\n",
    "mutable_param(some_list)\n",
    "print(some_list)"
   ]
  },
  {
   "cell_type": "markdown",
   "id": "5ea16a93-b964-4633-933c-477811db37c3",
   "metadata": {},
   "source": [
    "#### Generator Funktionen\n",
    "\n",
    "Generator Funktionen erzeugen eine Abfolge von Werten. Diese Folge wird nicht als ein Objekt (z.B. als list) von der Funktion zurück gegeben, sondern jeder Aufruf der Funktion gibt den nächsten Wert der Folge zurück. Hierfür wird das Schlüsselwort yield genutzt.\n",
    "\n",
    "Generator Funktionen können in for-in-Schleifen genutzt werden. Die Schleife iteriert über jeden von der Generator Funktion zurückgegebenen Wert."
   ]
  },
  {
   "cell_type": "code",
   "execution_count": null,
   "id": "eab899dd-fdb8-4933-ac6c-da5972e6a934",
   "metadata": {},
   "outputs": [],
   "source": [
    "def generator_function():\n",
    "    i = 0\n",
    "    \n",
    "    while i < 10:\n",
    "        yield 2 ** i # macht die Funktion zu einer generator function:\n",
    "                     # gibt 2 ** i (2^i) zurück und setzt bei erneutem Aufruf die Verarbeitung an dieser Stelle fort\n",
    "        i = i + 1\n",
    "\n",
    "for n in generator_function():\n",
    "    print(n)"
   ]
  },
  {
   "cell_type": "markdown",
   "id": "2ea27444-57aa-4457-9c59-56b8889f09df",
   "metadata": {},
   "source": [
    "Einfache Generatoren können meist als geschachtelte for-Schleifen geschrieben werden."
   ]
  },
  {
   "cell_type": "code",
   "execution_count": null,
   "id": "a51bef9e-3d8f-41f4-beb5-ff42856197c5",
   "metadata": {},
   "outputs": [],
   "source": [
    "# eine for-in-Schleife ist auch ein Generator: (2 ** i for i in range(10))\n",
    "for n in (2 ** i for i in range(10)):\n",
    "    print(n)"
   ]
  },
  {
   "cell_type": "markdown",
   "id": "2ca01523-0e4f-43b3-bc90-dde33de052c8",
   "metadata": {},
   "source": [
    "#### Decorator Funktionen\n",
    "\n",
    "Eine Decorator Funktion bekommt als Parameter eine Funktion übergeben und gibt diese, um zusätzliche Anweisungen erweitert, als Return-Wert zurück."
   ]
  },
  {
   "cell_type": "code",
   "execution_count": null,
   "id": "b8b4e638-f48b-42cc-a4bf-babf6fa323a3",
   "metadata": {},
   "outputs": [],
   "source": [
    "def sum_up(*items): # eine Funktion mit variabler Anzahl an Argumenten\n",
    "    ret = 0\n",
    "    for i in items:\n",
    "        if ret == 0:\n",
    "            ret = i # mit dem ersten Item wird der passende Datentp übernommen\n",
    "        else:\n",
    "            ret = ret + i\n",
    "    return ret\n",
    "\n",
    "def add(a, b): # eine Funktion mit zwei Parametern, die wahlweise als Keyword Parameter übergeben werden können\n",
    "    return a + b\n",
    "\n",
    "abs_2 = abs # eine built-in Funktion mit einem Argument (wir nutzen eine neue Variable, um die ursprüngliche Funktion nicht zu ändern)\n",
    "\n",
    "# die Decorator Funktion\n",
    "def decorator_debug(func): # erweitert die übergebene Funktion um eine DEBUG-Ausgabe des Funktionsnamens und der übergebenen Parameter\n",
    "    def inner(*args, **kwargs): # übergebene/neue Funktion unterstützt beliebige Parameter und Keyword Parameter\n",
    "        print(\"DEBUG in \" + str(func))\n",
    "        for p in args:\n",
    "            print(\"DEBUG     param: \" + str(p))\n",
    "        for p in kwargs:\n",
    "            print(\"DEBUG     key: \" + str(p) + \" param: \" + str(kwargs[p]))\n",
    "        return func(*args, **kwargs)\n",
    "    return inner\n",
    "\n",
    "print(sum_up(0,1,2,3,4,5,6,7,8,9))\n",
    "sum_up = decorator_debug(sum_up)\n",
    "print(sum_up(0,1,2,3,4,5,6,7,8,9))\n",
    "\n",
    "print(add(a = 7, b = 7))\n",
    "add = decorator_debug(add)\n",
    "print(add(a = 7, b = 7))\n",
    "\n",
    "print(abs_2(-10))\n",
    "abs_2 = decorator_debug(abs_2)\n",
    "print(abs_2(-10))"
   ]
  },
  {
   "cell_type": "markdown",
   "id": "9c3fb3ed-f106-4ccc-92b8-a82c2299873c",
   "metadata": {},
   "source": [
    "Anstelle eines direkten Aufrufs der Decorator Funktion bietet Python eine Annotation der zu dekorierenden Funktion mittels @ an."
   ]
  },
  {
   "cell_type": "code",
   "execution_count": null,
   "id": "2a105853-36ea-455b-88c3-23295dfd6b0a",
   "metadata": {},
   "outputs": [],
   "source": [
    "def decorator_debug(func):\n",
    "    def inner(*args, **kwargs):\n",
    "        print(\"DEBUG in \" + str(func))\n",
    "        for p in args:\n",
    "            print(\"DEBUG     param: \" + str(p))\n",
    "        for p in kwargs:\n",
    "            print(\"DEBUG     key: \" + str(p) + \" param: \" + str(kwargs[p]))\n",
    "        return func(*args, **kwargs)\n",
    "    return inner\n",
    "\n",
    "@decorator_debug # identisch mit: add = decorator_debug(add)\n",
    "def add(a, b):\n",
    "    return a + b\n",
    "\n",
    "print(add(a = 1, b = 2))"
   ]
  },
  {
   "cell_type": "markdown",
   "id": "5027a0c0-d586-4ec2-8976-71a769521054",
   "metadata": {},
   "source": [
    "Auch die Rückgaben von Generator Funktionen können mittels Decorator Funktionen erweitert werden. Hierfür muss die Decorator Funktion die Generator Funktion in einer for-Schleife aufrufen und einen manipulierten Rückgabewert mittels yield zurückgeben."
   ]
  },
  {
   "cell_type": "code",
   "execution_count": null,
   "id": "97399ad3-1395-4d93-afcb-fb741a198ae2",
   "metadata": {},
   "outputs": [],
   "source": [
    "def generator_function():\n",
    "    i = 0\n",
    "    while i < 10:\n",
    "        yield i\n",
    "        i = i + 1\n",
    "\n",
    "def decorator_add_one(func):\n",
    "    def inner(): # neue interne Funktion, welche die übergebene Funktion als Generator nutzt und einen neuen Generator erstellt\n",
    "        for l in func():\n",
    "            yield l + 1\n",
    "    return inner\n",
    "\n",
    "generator_function = decorator_add_one(generator_function)\n",
    "for n in generator_function():\n",
    "    print(n)"
   ]
  },
  {
   "cell_type": "markdown",
   "id": "2f70d031-41b3-489e-a2d4-fd7fbda1e848",
   "metadata": {},
   "source": [
    "Decorator Funktionen können auch mehrfach auf die gleiche Funktion angewandt werden (ergibt verschachtelte Funktionsaufrufe)."
   ]
  },
  {
   "cell_type": "code",
   "execution_count": null,
   "id": "fd032e85-b373-4adf-acd0-7068e24b0a84",
   "metadata": {},
   "outputs": [],
   "source": [
    "def decorator_add_one(func):\n",
    "    def inner():\n",
    "        for l in func():\n",
    "            yield l + 1\n",
    "    return inner\n",
    "\n",
    "@decorator_add_one # ersetzt: generator_function = decorator_add_one(generator_function)\n",
    "@decorator_add_one # falls wir die Generatoren zwei mal ineinander verschachteln wollen\n",
    "def generator_function():\n",
    "    i = 0\n",
    "    while i < 10:\n",
    "        yield i\n",
    "        i = i + 1\n",
    "\n",
    "for n in generator_function():\n",
    "    print(n)"
   ]
  },
  {
   "cell_type": "markdown",
   "id": "f2ebd20f-1960-44c3-814d-db1d8f352b82",
   "metadata": {},
   "source": [
    "Decorator Funktionen können eigene Parameter erhalten. Dies erfordert jedoch eine weitere Funktion, die einen entsprechend parametrisierten Decorator erstellt."
   ]
  },
  {
   "cell_type": "code",
   "execution_count": null,
   "id": "a5a812ab-c605-46f2-944b-bca17eb7422a",
   "metadata": {},
   "outputs": [],
   "source": [
    "def generator_function():\n",
    "    i = 0\n",
    "    while i < 10:\n",
    "        yield i\n",
    "        i = i + 1\n",
    "\n",
    "def create_decorator_add(n): # erstellt einen Decorator mit Parameter\n",
    "    def decorator_add(func): # eigentlicher Decorator\n",
    "        def inner():\n",
    "            for l in func():\n",
    "                yield l + n\n",
    "        return inner\n",
    "    return decorator_add\n",
    "\n",
    "# erst wird die Funktion aufgerufen, welche einen parametrisierten\n",
    "# Decorator erstellt, dann wird dieser genutzt, um eine übergebene\n",
    "# Funktion zu erweitern\n",
    "generator_function = (create_decorator_add(4))(generator_function)\n",
    "\n",
    "for n in generator_function():\n",
    "    print(n)"
   ]
  },
  {
   "cell_type": "markdown",
   "id": "d4806404-b351-41a9-b58f-f373c3908d85",
   "metadata": {},
   "source": [
    "Ein parametrisierter Decorator kann auch mittels @ genutzt werden."
   ]
  },
  {
   "cell_type": "code",
   "execution_count": null,
   "id": "f6a6f0cd-fd34-4d9d-8520-a4fee6c128ee",
   "metadata": {},
   "outputs": [],
   "source": [
    "def create_decorator_add(n):\n",
    "    def decorator_add(func):\n",
    "        def inner():\n",
    "            for l in func():\n",
    "                yield l + n\n",
    "        return inner\n",
    "    return decorator_add\n",
    "\n",
    "@create_decorator_add(4)\n",
    "def generator_function():\n",
    "    i = 0\n",
    "    while i < 10:\n",
    "        yield i\n",
    "        i = i + 1\n",
    "\n",
    "for n in generator_function():\n",
    "    print(n)"
   ]
  },
  {
   "cell_type": "markdown",
   "id": "38665ebe-2e99-4801-ad7f-e041f78bc271",
   "metadata": {},
   "source": [
    "Abschließend noch ein Beispiel zur Zeitmessung von Funktionsaufrufen:"
   ]
  },
  {
   "cell_type": "code",
   "execution_count": null,
   "id": "e66511ec-ba65-4235-9ae5-bed3b3b9c27a",
   "metadata": {},
   "outputs": [],
   "source": [
    "import time\n",
    "\n",
    "def measure_time(func):\n",
    "    def inner(*args, **kwargs):\n",
    "        t = time.time()\n",
    "        ret = func(*args, **kwargs)\n",
    "        t = time.time() - t\n",
    "        print(\"time used to call \" + str(func) + \": \" + str(t))\n",
    "        return ret\n",
    "    return inner\n",
    "\n",
    "@measure_time\n",
    "def add(a, b):\n",
    "    return a + b\n",
    "\n",
    "print(add(20, 5))\n",
    "\n",
    "@measure_time\n",
    "def print_str(s):\n",
    "    print(\"Ein str: \" + s)\n",
    "    \n",
    "print_str(\"Test-String\")\n",
    "\n",
    "@measure_time\n",
    "def generator_function():\n",
    "    i = 0\n",
    "    while i < 10:\n",
    "        yield i # hier ergibt sich ein Problem: die Implementierung von yield sorgt dafür, dass der Decorator nur beim ersten Aufruf ausgeführt wird\n",
    "        i = i + 1\n",
    "\n",
    "for n in generator_function():\n",
    "    print(n)"
   ]
  },
  {
   "cell_type": "markdown",
   "id": "44de5b9d-9e8d-49fb-bcc0-ef28e53d0a0e",
   "metadata": {},
   "source": [
    "#### Lambda Funktionen\n",
    "\n",
    "Lambda Funktionen sind kleine, anonyme Funktionen. Sie können nicht über einen Bezeichner/Namen, sondern nur über eine Variable/Referenz genutzt werden."
   ]
  },
  {
   "cell_type": "code",
   "execution_count": null,
   "id": "69e88e2e-c15b-47f7-88e3-428f70ac453b",
   "metadata": {},
   "outputs": [],
   "source": [
    "x = lambda a : a + 42\n",
    "print(x(5))\n",
    "\n",
    "x = lambda a, b : a + b\n",
    "print(x(40, 2))"
   ]
  },
  {
   "cell_type": "code",
   "execution_count": null,
   "id": "49e31e34-247c-49dc-a9df-df0a2ec45b53",
   "metadata": {},
   "outputs": [],
   "source": [
    "def create_exponential(e):\n",
    "    return lambda n : n ** e\n",
    "\n",
    "exp_1 = create_exponential(1)\n",
    "exp_2 = create_exponential(2)\n",
    "exp_3 = create_exponential(3)\n",
    "\n",
    "print(exp_1(2))\n",
    "print(exp_2(2))\n",
    "print(exp_3(2))"
   ]
  },
  {
   "cell_type": "markdown",
   "id": "2e0037b0-0311-4e80-96ba-03ef0b1e1a7b",
   "metadata": {},
   "source": [
    "### Klassen\n",
    "\n",
    "Klassen werden in Python mit dem Schlüsselwort class definiert. Nach dem Schlüsselwort folgt der Name der Klasse und dann ein Doppelpunkt. Im Anweisungsblock nach dem Doppelpunkt können dann Variablen und Methoden der Klasse definiert werden. Dabei entscheidet die Position der Variablen darüber, ob es sich um [Klassen-Variablen](#Klassen-Variablen) oder [Instanz-Variablen](#Instanz-Variablen) handelt.\n",
    "\n",
    "Nachdem eine Klasse definiert wurde, können über den Klassennamen Instanzen der Klasse erstellt werden. Diese verhalten sich wie built-in Datentypen mit der Eigenschaft mutable (siehe auch [Multiple Names und mutable](#Multiple-Names-und-mutable)), da Variablen in Python immer Referenzen auf Objekte (also Instanzen) sind. Es gibt also keinen Unterschied zwischen \"primitiven\" Datentypen und Objekten bei der Übergabe als Parameter."
   ]
  },
  {
   "cell_type": "code",
   "execution_count": null,
   "id": "9d561885-bae6-494f-922d-4a42fc2721d5",
   "metadata": {},
   "outputs": [],
   "source": [
    "class Car:\n",
    "    pass # die Definition einer Klasse darf nicht leer sein: das pass Statement löst dieses Problem\n",
    "\n",
    "x = Car() # erstellt ein Objekt vom Typ Car und speichert eine Referenz (Instanz) in der Variable x\n",
    "print(str(type(x)) + \": \" + str(x))"
   ]
  },
  {
   "cell_type": "code",
   "execution_count": null,
   "id": "c6667b70-4950-48e5-bf14-de93d3f3389f",
   "metadata": {},
   "outputs": [],
   "source": [
    "class Car:\n",
    "    pass\n",
    "\n",
    "x = Car # fehlende Klammern: wir erstellen kein Objekt aus der Klasse, sondern nutzen die Klasse direkt\n",
    "del x\n",
    "#print(x) # ergibt einen Fehler, da der Name bzw. die Variable nicht mehr existiert\n",
    "          # evlt. ist hier auch das Objekt bereits gelöscht, da die einzige Variable,\n",
    "          # die das Objekt referenziert hat nicht mehr existiert und damit der\n",
    "          # Garbage Collector aktive werden konnte"
   ]
  },
  {
   "cell_type": "markdown",
   "id": "e661d8bd-cc10-4745-b9a4-e906cded26bd",
   "metadata": {},
   "source": [
    "#### Klassen-Variablen\n",
    "\n",
    "Variablen, welche nicht innerhalb einer Methode, sondern direkt innerhalb der Klasse definiert wurden, sind Klassen-Variablen. Diese Klassen-Variablen existieren nur ein mal pro Klasse. Alle Instanzen der Klasse teilen sich diese Variablen. Ändert eine Instanz den Wert einer Klassen-Variablen, so ist diese Änderung für alle anderen Instanzen der Klasse sichtbar."
   ]
  },
  {
   "cell_type": "code",
   "execution_count": null,
   "id": "f94ee2ee-ff6b-4f73-8817-728fc22f50c1",
   "metadata": {},
   "outputs": [],
   "source": [
    "class Car:\n",
    "    wheels = 4\n",
    "    doors = 5\n",
    "\n",
    "x = Car\n",
    "print(str(type(x)) + \": \" + str(x))\n",
    "print(x.wheels)\n",
    "print(x.doors)\n",
    "\n",
    "y = Car\n",
    "y.wheels = 6 # ändert den Wert der Klassen-Variablen: auch x.wheels hat jetzt den Wert 6\n",
    "y.doors = 3\n",
    "print(x.wheels)\n",
    "print(x.doors)"
   ]
  },
  {
   "cell_type": "code",
   "execution_count": null,
   "id": "8160ef42-31e7-489e-98e8-1799414de35f",
   "metadata": {},
   "outputs": [],
   "source": [
    "class Car:\n",
    "    wheels = 4\n",
    "    doors = 5\n",
    "\n",
    "x = Car\n",
    "\n",
    "del x.wheels\n",
    "#print(x.wheels) # ergibt einen Fehler, da die Variable im Objekt nicht mehr existiert"
   ]
  },
  {
   "cell_type": "markdown",
   "id": "d836be0b-5ef7-4d6c-9339-db81a8e24118",
   "metadata": {},
   "source": [
    "#### Instanz-Variablen\n",
    "\n",
    "Werden Variablen in einer Methode (z.B. im Konstruktor) definiert, so handelt es sich um Instanz-Variablen. Diese werden für jede Instanz neu angelegt. Die Änderung des Werts einer Instanz-Variable ist daher nur für die Instanz selbst sichtbar.\n",
    "\n",
    "Wenn eine Klassen- und eine Instanz-Variable mit gleichem Namen existieren, so wird bei einem Zugriff über die Instanz die Instanz-Variable und bei einem Zugriff über die Klasse die Klassen-Variable genutzt."
   ]
  },
  {
   "cell_type": "code",
   "execution_count": null,
   "id": "630e4350-a83e-445c-9d7e-77b440aaa8d1",
   "metadata": {},
   "outputs": [],
   "source": [
    "class Car:\n",
    "    def __init__(self, wheels, doors): # self ist kein Schlüsselwort!\n",
    "                                       # Der erste Parameter ist das Objekt,\n",
    "                                       # er kann aber beliebig benannt werden\n",
    "                                       # (eine abweichende Bezeichnung sorgt\n",
    "                                       # aber nur für Verwirrung).\n",
    "        self.wheels = wheels\n",
    "        self.doors = doors\n",
    "\n",
    "#x = Car() # Fehler, da Argumente fehlen\n",
    "x = Car(4,5)\n",
    "print(x.wheels)\n",
    "print(x.doors)"
   ]
  },
  {
   "cell_type": "code",
   "execution_count": null,
   "id": "fa81d53e-b6a0-42c8-93ca-51901989cc89",
   "metadata": {},
   "outputs": [],
   "source": [
    "class Car:\n",
    "    def __init__(self, wheels = 4, doors = 5): # mit default Werten\n",
    "        self.wheels = wheels\n",
    "        self.doors = doors\n",
    "\n",
    "x = Car()\n",
    "y = Car(6,3)\n",
    "print(x.wheels) # wurde nicht mit dem Wert 6 überschrieben, da Instanz-Variable\n",
    "print(x.doors)\n",
    "print(y.wheels)\n",
    "print(y.doors)"
   ]
  },
  {
   "cell_type": "code",
   "execution_count": null,
   "id": "3d1d4e2a-0e39-467b-a991-acded4260267",
   "metadata": {},
   "outputs": [],
   "source": [
    "class Car:\n",
    "    wheels = 6\n",
    "    def __init__(self, wheels = 4):\n",
    "        self.wheels = wheels # greift nicht auf die Klassen-Variable zu, sondern erstellt eine neuen Instanz-Variable\n",
    "        #Car.wheels = wheels # über den Klassen-Namen kann auf die Klassen-Variable zugegriffen werden\n",
    "\n",
    "x = Car()\n",
    "\n",
    "print(x.wheels)\n",
    "print(Car.wheels)"
   ]
  },
  {
   "cell_type": "code",
   "execution_count": null,
   "id": "fba8af1c-a46b-4227-880c-272611aa29fe",
   "metadata": {},
   "outputs": [],
   "source": [
    "class Car:\n",
    "    def __init__(self, wheels = 4):\n",
    "        self.wheels = wheels\n",
    "    \n",
    "    def get_wheels(self):\n",
    "        #return wheels # es kann nicht direkt über den Namen einer Klassen-/Instanz-Variablen zugegriffen werden\n",
    "                       # es muss immer der Klassen-Name oder die übergebene Objekt-Referenz genutzt werden\n",
    "        return self.wheels\n",
    "\n",
    "x = Car()\n",
    "print(x.get_wheels())"
   ]
  },
  {
   "cell_type": "markdown",
   "id": "9fd20cc5-c5e6-41d8-a0be-c15fa2e0ce43",
   "metadata": {},
   "source": [
    "#### Sichtbarkeit von Klassen- und Instanz-Variablen\n",
    "\n",
    "Python kennt keinen Unterschied zwischen private, public und protected. Alle Variablen sind generell public (also sichtbar und manipulierbar von außerhalb der Klasse). Es gibt aber Konventionen, die dem Benutzer der Klasse signalisieren, dass eine Variable nur innerhalbt der Klasse genutzt werden soll/darf.\n",
    "\n",
    "Gleiches gilt für die [Sichtbarkeit von Methoden](#Sichtbarkeit-von-Methoden)."
   ]
  },
  {
   "cell_type": "code",
   "execution_count": null,
   "id": "621e2367-3d84-47df-86e8-54d0cd746217",
   "metadata": {},
   "outputs": [],
   "source": [
    "class Car:\n",
    "    _wheels = 4 # Unterstrich signalisiert: Variable soll nicht durch Nutzer der Klasse direkt verändert werden (dies ist aber technisch möglich)\n",
    "    __doors = 5 # doppelter Unterstrich: Python verändert den Namen der Variable, so dass ein direkter Zugriff nicht einfach möglich ist\n",
    "                # (es wird ein Unterstrich und ein um führende Unterstriche bereinigter Klassenname vor die Variable gesetzt; dies dient\n",
    "                # nicht dazu die Variable private zu machen, sondern dazu Namenskonflikte aufzulösen)\n",
    "    __test1_ = 1 # ein nachgestellter Unterstrich ist erlaubt: auch hier wird der Name der Variable geändert\n",
    "    __test2__ = 2 # mehr als ein nachgestellter Unterstrich verhindern eine automatische Veränderung des Namens\n",
    "\n",
    "x = Car # fehlende Klammern: wir erstellen kein Objekt aus der Klasse, sondern nutzen die Klasse direkt\n",
    "print(str(type(x)) + \": \" + str(x))\n",
    "\n",
    "print(x._wheels)\n",
    "x._wheels = 6\n",
    "print(x._wheels)\n",
    "\n",
    "#print(x.__doors) # ergibt einen Fehler, da __doors nicht bekannt ist\n",
    "print(x.__dict__) # zeigt den gesamten Inhalt eines Objekts bzw. einer Klasse an\n",
    "print(x._Car__doors) # jetzt kennen wir den geänderten Namen und können zugreifen\n",
    "\n",
    "# noch einmal, allerdings vollständig automatisiert\n",
    "d = x.__dict__\n",
    "for key in d:\n",
    "    if key.endswith(\"__doors\"):\n",
    "        print(d[key])"
   ]
  },
  {
   "cell_type": "markdown",
   "id": "e683639d-e2a5-452d-b5a1-c81fa80afb38",
   "metadata": {},
   "source": [
    "#### Methoden\n",
    "\n",
    "Funktionen, die zur Klasse gehören und dementsprechend in der Klasse definiert sind, bilden die Methoden der aus der Klasse erstellten Objekte. Methoden können entweder nur über ein Objekt, oder sowohl über ein Objekt oder eine Klasse (classmethod/staticmethod) aufgerufen werden. Sie bekommen als ersten Parameter entweder eine Referenz auf das Objekt, die Klasse (classmethods) oder nichts von beidem (staticmethod) übergeben. Die Referenz auf das Objekt bzw. die Klasse wird dabei automatisch beim Aufruf der Methode übergeben, sie muss nicht manuell in der Parameterliste aufgeführt werden.\n",
    "\n",
    "Methoden sind grundsätzlich virtuell (bei überladenen Methoden wird immer die Methode der tatsächlichen Klasse und nicht die Methode einer Basis-Klasse aufgerufen). Siehe auch [Vererbung](#Vererbung). Dies führt dazu, dass wenn in einer abgeleiteten Klasse eine Methode überschrieben wird, die in der Basis-Klasse von einer anderen Methode aufgerufen wird, diese andere Methode gegebenenfalls die überschriebene Methode nutzt (wenn sie von der abgeleiteten Klasse aus aufgerufen wird)."
   ]
  },
  {
   "cell_type": "code",
   "execution_count": null,
   "id": "531346e2-f25a-4c07-a8ba-96da6dce82be",
   "metadata": {},
   "outputs": [],
   "source": [
    "class Car:\n",
    "    def __init__(self, wheels = 4, doors = 5):\n",
    "        self.wheels = wheels\n",
    "        self.doors = doors\n",
    "    \n",
    "    def print(self): # eine einfache Methode: erster Parameter ist immer eine Referenz auf das Objekt, von dem aus die Methode aufgerufen wurde\n",
    "        print(\"Ein Auto mit \" + str(self.wheels) + \" Rädern und \" + str(self.doors) + \" Türen.\")\n",
    "    \n",
    "    @classmethod\n",
    "    def print_class(cls): # eine Klassen-Methode: erster Parameter ist immer die Klasse\n",
    "        print(\"Klasse: \" + str(cls))\n",
    "    \n",
    "    @staticmethod\n",
    "    def print_static(): # eine Static-Methode: weder Objekt noch Klasse werden als Parameter übergeben\n",
    "        print(\"static Text\")\n",
    "\n",
    "x = Car()\n",
    "x.print()\n",
    "x.print_class()\n",
    "Car.print_class()\n",
    "x.print_static()\n",
    "Car.print_static()\n",
    "\n",
    "x = Car(6,3)\n",
    "x.print()\n",
    "x.print_class()\n",
    "Car.print_class()\n",
    "x.print_static()\n",
    "Car.print_static()\n",
    "\n",
    "#Car.print() # gibt einen Fehler: hier wird direkt die Funktion aus der Klasse aufgerufen\n",
    "             # => damit wird nicht automatisch die Referenz auf ein konkretes Objekt übergeben\n",
    "Car.print(x) # jetzt wird die Funktion aus der Klasse mit einer Referenz auf ein Objekt\n",
    "             # als Parameter aufgerufen: der Fehler tritt nicht mehr auf\n",
    "             # => dies ist identisch mit x.print()"
   ]
  },
  {
   "cell_type": "code",
   "execution_count": null,
   "id": "df3901d6-f309-476c-ab31-7d2b136922d1",
   "metadata": {},
   "outputs": [],
   "source": [
    "class Car:\n",
    "    def __init__(self, wheels = 4, doors = 5):\n",
    "        self.wheels = wheels\n",
    "        self.doors = doors\n",
    "    \n",
    "    def print(self, no): # nach dem Objekt können weitere Parameter folgen\n",
    "        print(str(no) + \" Ein Auto mit \" + str(self.wheels) + \" Rädern und \" + str(self.doors) + \" Türen.\")\n",
    "    \n",
    "    @classmethod\n",
    "    def print_class(cls, no): # nach der Klasse können weitere Parameter folgen\n",
    "        print(str(no) + \" Klasse: \" + str(cls))\n",
    "    \n",
    "    @staticmethod\n",
    "    def print_static(no):\n",
    "        print(str(no) + \" static Text\")\n",
    "\n",
    "x = Car(6,3)\n",
    "x.print(1)\n",
    "x.print_class(2)\n",
    "Car.print_class(3)\n",
    "x.print_static(4)\n",
    "Car.print_static(5)"
   ]
  },
  {
   "cell_type": "code",
   "execution_count": null,
   "id": "e2429cb0-1218-48ac-bc19-fbfd172a689b",
   "metadata": {},
   "outputs": [],
   "source": [
    "def add_wheel(self):\n",
    "    self.wheels += 1\n",
    "\n",
    "class Car:\n",
    "    def __init__(self, wheels = 4, doors = 5):\n",
    "        self.wheels = wheels\n",
    "        self.doors = doors\n",
    "    \n",
    "    add_wheel = add_wheel # eine Methode muss nicht in der Klasse definiert werden,\n",
    "                          # es reicht, wenn ein Attribut vorhanden ist, welches eine\n",
    "                          # Referenz auf eine Funktion enthält\n",
    "                          # (sorgt für Verwirrung: sollte nicht gemacht werden)\n",
    "    \n",
    "    def add_axle(self):\n",
    "        self.add_wheel() # die Methode eines Objektes kann aus einer anderen Methode\n",
    "        self.add_wheel() # heraus genutzt werden: Aufruf erfolgt über die Referenz\n",
    "\n",
    "x = Car()\n",
    "print(x.wheels)\n",
    "x.add_wheel()\n",
    "print(x.wheels)\n",
    "x.add_axle()\n",
    "print(x.wheels)"
   ]
  },
  {
   "cell_type": "code",
   "execution_count": null,
   "id": "5cb1ea31-5cf0-49a3-8e76-52f8b5835377",
   "metadata": {},
   "outputs": [],
   "source": [
    "class Test:\n",
    "    def test_method(self):\n",
    "        print(\"test\")\n",
    "\n",
    "x = Test()\n",
    "test_method = x.test_method\n",
    "\n",
    "test_method()\n",
    "print(test_method.__self__) # über eine Referenz auf eine Methode kann auf das Objekt zugegriffen werden\n",
    "test_method.__self__.test_method()\n",
    "print(test_method.__func__) # über eine Referenz auf eine Methode kann auf die Funktion in der Klasse zugegriffen werden\n",
    "test_method.__func__(x)"
   ]
  },
  {
   "cell_type": "markdown",
   "id": "bf65f676-84a4-420e-b49a-56bcb2ff4d3b",
   "metadata": {},
   "source": [
    "#### Sichtbarkeit von Methoden\n",
    "\n",
    "Wie bei Variablen (siehe [Sichtbarkeit von Klassen- und Instanz-Variablen](#Sichtbarkeit-von-Klassen--und-Instanz-Variablen)) gilt auch bei Methoden: sie sind generell von außerhalb einer Klasse bzw. eines Objektes sichtbar. Dies kann nur über Konventionen eingeschränkt werden."
   ]
  },
  {
   "cell_type": "code",
   "execution_count": null,
   "id": "8d6dc316-1358-46b6-bc9d-4fc35cc10b07",
   "metadata": {},
   "outputs": [],
   "source": [
    "class Test:\n",
    "    def __init__(self, i):\n",
    "        #self.add(i)\n",
    "        self.__add(i)\n",
    "    \n",
    "    def add(self, i):\n",
    "        self.i = i\n",
    "    \n",
    "    def __str__(self):\n",
    "        return str(self.i)\n",
    "    \n",
    "    __add = add # private Kopie mit neuem Namen (kann in __init__ verwendet werden, ohne dass ein Überladen von add zu einem Fehler führt)\n",
    "\n",
    "class Sub_Test(Test):\n",
    "    def add(self, no, i): # Überlädt die add Methode mit einem zusätzlichen Parameter, aber nicht die __add Methode\n",
    "        self.i = str(no) + \": \" + str(i)\n",
    "\n",
    "x = Sub_Test(2)\n",
    "print(Test.__dict__)\n",
    "print(Sub_Test.__dict__)\n",
    "print(x.__dict__)\n",
    "print(x)\n",
    "x.add(2, 42)\n",
    "print(x)"
   ]
  },
  {
   "cell_type": "markdown",
   "id": "57822975-c745-405d-a727-37d04593f1c7",
   "metadata": {},
   "source": [
    "#### Vererbung\n",
    "\n",
    "Python unterstützt Einfache und Mehrfachvererbung.\n",
    "\n",
    "Da Instanz-Variablen innerhalb von Methoden der Klasse definiert werden, kann das Überladen von Methoden Instanz-Variablen entfernen (auf die andere Methoden evtl. zugreifen: führt zu Laufzeit-Fehlern). Der Klassenname der Basis-Klasse oder die super Funktion können genutzt werden, um aus einer überladenen Methode heraus die Methode der Basis-Klasse aufzurufen.\n",
    "\n",
    "Bei Mehrfachvererbung können mehrdeutige Namen auftreten: der Bezeichner einer Variablen oder einer Methode kann in mehr als einer Basis-Klasse vorkommen. Eine Auflösung der Bezeichner erfolgt dann anhand der Reihenfolge in der die Basis-Klassen bei der Vererbung angegeben sind. Die erste Klasse, in der der Bezeichner auftritt, wird genutzt. Dabei erfolgt für jede zu durchsuchende Basis-Klasse eine Tiefensuche über alle Klassen von denen die Basis-Klasse abgeleitet wurde (diese erfolgt ebenfalls von links nach rechts, sofern mehrere Basis-Klassen in einem Vererbungsschritt angegeben sind; dabei wird die selbe Klasse nicht mehrfach durchsucht; siehe auch https://docs.python.org/3/tutorial/classes.html 9.5.1. Multiple Inheritance).\n",
    "\n",
    "built-in Datentypen können als Basis-Klassen bei der Vererbung genutzt werden."
   ]
  },
  {
   "cell_type": "code",
   "execution_count": null,
   "id": "7d9f11b5-b199-401b-b6e1-a3f3523c271b",
   "metadata": {},
   "outputs": [],
   "source": [
    "class Car:\n",
    "    def __init__(self, wheels=4, doors=5):\n",
    "        self.wheels = wheels\n",
    "        self.doors = doors\n",
    "    \n",
    "    def print(self):\n",
    "        print(\"Ein Auto mit \" + str(self.wheels) + \" Rädern und \" + str(self.doors) + \" Türen.\")\n",
    "\n",
    "class Bus(Car): # Bus wurde von Car abgeleitet (erbt lokale Variablen und Methoden)\n",
    "    seats = 20\n",
    "\n",
    "x = Bus()\n",
    "print(str(type(x)) + \": \" + str(x))\n",
    "\n",
    "x.print()\n",
    "print(x.seats)"
   ]
  },
  {
   "cell_type": "code",
   "execution_count": null,
   "id": "843cc237-3bcf-423c-8814-94c382cdb5fb",
   "metadata": {},
   "outputs": [],
   "source": [
    "class Car:\n",
    "    def __init__(self, wheels=4, doors=5):\n",
    "        self.wheels = wheels\n",
    "        self.doors = doors\n",
    "    \n",
    "    def print(self):\n",
    "        print(\"Ein Auto mit \" + str(self.wheels) + \" Rädern und \" + str(self.doors) + \" Türen.\")\n",
    "\n",
    "class Bus(Car):\n",
    "    def __init__(self, seats=20): # überschreibt die init-Methode der Basis-Klasse (Car)\n",
    "        self.seats = seats\n",
    "\n",
    "x = Bus()\n",
    "\n",
    "x.print() # führt zu einem Fehler, da wheels und doors nur in der init-Methode der Basis-Klasse definiert werden, diese aber überladen wurde"
   ]
  },
  {
   "cell_type": "code",
   "execution_count": null,
   "id": "6a744b99-9ef4-4a17-be47-ca77b6c30829",
   "metadata": {},
   "outputs": [],
   "source": [
    "class Car:\n",
    "    def __init__(self, wheels=4, doors=5):\n",
    "        self.wheels = wheels\n",
    "        self.doors = doors\n",
    "    \n",
    "    def print(self):\n",
    "        print(\"Ein Auto mit \" + str(self.wheels) + \" Rädern und \" + str(self.doors) + \" Türen.\")\n",
    "\n",
    "class Bus(Car):\n",
    "    def __init__(self, wheels=4, doors=5, seats=20):\n",
    "        self.seats = seats\n",
    "        #Car.__init__(self, wheels, doors) # ruft die init-Methode aus der Basis-Klasse\n",
    "        super().__init__(wheels, doors) # ruft die init-Methode aus der Basis-Klasse, ohne den Umweg über den Klassen-Namen\n",
    "\n",
    "x = Bus()\n",
    "\n",
    "x.print() # jetzt sind alle für print() notwendige Variablen vorhanden"
   ]
  },
  {
   "cell_type": "code",
   "execution_count": null,
   "id": "4624f0cf-7365-49fd-ae39-6cb41d8d7f09",
   "metadata": {},
   "outputs": [],
   "source": [
    "class Car:\n",
    "    def __init__(self, wheels=4, doors=5):\n",
    "        self.wheels = wheels\n",
    "        self.doors = doors\n",
    "    \n",
    "    def print(self):\n",
    "        print(\"Ein Auto mit \" + str(self.wheels) + \" Rädern und \" + str(self.doors) + \" Türen.\")\n",
    "\n",
    "class Bus(Car):\n",
    "    def __init__(self, wheels=4, doors=5, seats=20):\n",
    "        self.seats = seats\n",
    "        super().__init__(wheels, doors)\n",
    "\n",
    "class Test1:\n",
    "    def print(self):\n",
    "        print(\"dies ist ein Test\")\n",
    "\n",
    "class Test2:\n",
    "    pass\n",
    "\n",
    "for o in Car(4,5), Bus(6,3), Test1():\n",
    "    o.print() # Duck Typing: print kann für Car, Bus und Test1 ausgeführt werden, aber für Test2 nicht\n",
    "              # dabei haben Car, Bus und Test1 nicht alle die gleiche Basis-Klasse!"
   ]
  },
  {
   "cell_type": "code",
   "execution_count": null,
   "id": "39453a8f-72e3-4d00-8395-806c558d4dd2",
   "metadata": {},
   "outputs": [],
   "source": [
    "class Car:\n",
    "    def __init__(self, wheels=4, doors=5):\n",
    "        self.wheels = wheels\n",
    "        self.doors = doors\n",
    "    \n",
    "    def print(self):\n",
    "        print(\"Ein Auto mit \" + str(self.wheels) + \" Rädern und \" + str(self.doors) + \" Türen.\")\n",
    "\n",
    "class Bus(Car):\n",
    "    def __init__(self, wheels=4, doors=5, seats=20):\n",
    "        self.seats = seats\n",
    "        super().__init__(wheels, doors)\n",
    "\n",
    "class Test1:\n",
    "    def print(self):\n",
    "        print(\"dies ist ein Test\")\n",
    "\n",
    "class Multi(Bus, Test1): # Reihenfolge ist wichtig (siehe unten)\n",
    "    pass\n",
    "\n",
    "x = Multi()\n",
    "\n",
    "x.print() # durch Mehrfachvererbung ist print mehrdeutig:\n",
    "          # die Reihenfolge der Basisklassen in der Definition von Multi\n",
    "          # entscheidet darüber, welche Methode ausgeführt wird\n",
    "          # (hier erbt Bus eine print Methode von Car. Da Bus vor Test1\n",
    "          # in der Definition von Multi angegeben ist, wird print von\n",
    "          # Car ausgeführt)"
   ]
  },
  {
   "cell_type": "code",
   "execution_count": null,
   "id": "6e513a1f-a46c-4842-a08b-d8c1b5f8125b",
   "metadata": {},
   "outputs": [],
   "source": [
    "class Number(int):\n",
    "    def __str__(self):\n",
    "        return \"No. \" + super().__str__()\n",
    "\n",
    "x = Number()\n",
    "print(Number.__dict__)\n",
    "print(x.__dict__)\n",
    "print(x)\n",
    "\n",
    "x = Number(2)\n",
    "print(x)"
   ]
  },
  {
   "cell_type": "markdown",
   "id": "6d0abbe2-c291-4705-8578-f67b787a20c6",
   "metadata": {},
   "source": [
    "#### vordefinierte Methoden-Namen\n",
    "\n",
    "Python stellt einige vordefinierte Methoden-Namen zur Verfügung. Werden Methoden mit diesen Namen implementiert, so hat dies Einfluss auf das Verhalten der aus der Klasse erstellten Objekte. So kann mittels \\_\\_init\\_\\_ ein Konstruktoren erstellt oder über \\_\\_eq\\_\\_ ein Verhalten für den Operator == definiert werden.\n",
    "\n",
    "Die folgenden Beispiele führen einige der vordefinierten Methoden-Namen auf.\n",
    "\n",
    "Weitere Methoden-Namen, die das Verhalten einer Klasse ändern, können der Dokumentation entnommen werden:\n",
    "https://docs.python.org/3/reference/datamodel.html (Abschnitt 3.3.1. Basic customization)."
   ]
  },
  {
   "cell_type": "code",
   "execution_count": null,
   "id": "aace62d5-f540-4a73-b9a0-0070f481609e",
   "metadata": {},
   "outputs": [],
   "source": [
    "class Test:\n",
    "    def __new__(cls): # erstellt ein neues Objekt, aber initialisiert es nicht\n",
    "        print(\"in new\")\n",
    "        return super().__new__(cls) # muss das neue Objekt zurückgeben (nur dann wird als nächstes __init__ aufgerufen)\n",
    "    \n",
    "    def __init__(self): # initialisiert ein neues Objekt (darf nur None zurück geben)\n",
    "        print(\"in init\")\n",
    "    \n",
    "    def __del__(self): # finalizer: wenn der Garbage Collector das Objekt frei gibt, wird __del__ aufgerufen (dies muss nicht eintreten!)\n",
    "        print(\"in del\")\n",
    "    \n",
    "    def __str__(self): # wird von str(), format() und print() genutzt um einen beschreibenden Text für das Objekt zu erhalten\n",
    "        return \"nur ein Test\"\n",
    "\n",
    "x = Test()\n",
    "\n",
    "print(x)\n",
    "\n",
    "del x"
   ]
  },
  {
   "cell_type": "code",
   "execution_count": null,
   "id": "5125dbd4-aece-43a0-9518-5cb0e2ecca77",
   "metadata": {},
   "outputs": [],
   "source": [
    "class Bus():\n",
    "    def __init__(self, seats):\n",
    "        self.seats = seats\n",
    "    \n",
    "    def __eq__(self, other): # wird vom Operator == aufgerufen\n",
    "        if self.seats == other.seats:\n",
    "            return True\n",
    "        else:\n",
    "            return False\n",
    "    \n",
    "    def __lt__(self, other): # wird vom Operator < aufgerufen\n",
    "        if self.seats < other.seats:\n",
    "            return True\n",
    "        else:\n",
    "            return False\n",
    "\n",
    "a = Bus(10)\n",
    "b = Bus(20)\n",
    "\n",
    "if a == b:\n",
    "    print(\"Bus a und b haben gleich viele Sitze\")\n",
    "elif a < b:\n",
    "    print(\"Bus a hat weniger Sitze als b\")\n",
    "else:\n",
    "    print(\"Bus a hat mehr Sitze als b\")"
   ]
  },
  {
   "cell_type": "markdown",
   "id": "a7502a62-508f-46b3-8d67-4bd0b8f1c94a",
   "metadata": {},
   "source": [
    "#### Ändern von Klassen/Objekten zur Laufzeit\n",
    "\n",
    "Klassen und Objekte können in Python zur Laufzeit verändert werden. Dabei können sowohl Attribute (Klassen und Instanz Variablen) als auch Methoden entfernt und hinzugefügt werden."
   ]
  },
  {
   "cell_type": "code",
   "execution_count": null,
   "id": "3a4d2ceb-866b-4627-81e2-286889915955",
   "metadata": {},
   "outputs": [],
   "source": [
    "class Test:\n",
    "    a = 3\n",
    "    \n",
    "    def __init__(self, b = 3):\n",
    "        self.b = b\n",
    "    \n",
    "    def get_value(self):\n",
    "        return self.a * self.b\n",
    "\n",
    "x = Test()\n",
    "print(Test.__dict__)\n",
    "print(x.__dict__)\n",
    "print(\"x.a * x.b = \" + str(x.get_value()))\n",
    "\n",
    "print()\n",
    "print(\"Entfernen von Klassen Variable a und Instanz Variable b:\")\n",
    "del Test.a # um del zu nutzen, muss der Name der zu löschenden Variable bereits beim Schreiben des Sources bekannt sein\n",
    "del x.b\n",
    "print(Test.__dict__)\n",
    "print(x.__dict__)\n",
    "\n",
    "print()\n",
    "print(\"Hinzufügen von Klassen Variable a und Instanz Variable b:\")\n",
    "Test.a = 5\n",
    "x.b = 5\n",
    "print(Test.__dict__)\n",
    "print(x.__dict__)\n",
    "\n",
    "print()\n",
    "print(\"Entfernen von Klassen Variable a und Instanz Variable b mittels delattr:\")\n",
    "delattr(Test, \"a\") # delattr wird mit einem String als Parameter aufgerufen: Name der Variable kann zur Laufzeit generiert werden\n",
    "delattr(x, \"b\")\n",
    "print(Test.__dict__)\n",
    "print(x.__dict__)\n",
    "\n",
    "print()\n",
    "print(\"Hinzufügen von Klassen Variable a und Instanz Variable b mittels setattr:\")\n",
    "setattr(Test, \"a\", 7)\n",
    "setattr(x, \"b\", 7)\n",
    "print(Test.__dict__)\n",
    "print(x.__dict__)\n",
    "\n",
    "print()\n",
    "print(\"Entfernen von Methoden:\")\n",
    "#del x.get_value # Methoden einer Klasse können nur von der Klasse entfernt werden\n",
    "                 # (dies ändert alle Objekte vom Typ der Klasse) und nicht von\n",
    "                 # einem einzelnen Objekt\n",
    "del Test.get_value\n",
    "print(Test.__dict__)\n",
    "print(x.__dict__)\n",
    "\n",
    "print()\n",
    "print(\"Hinzufügen von Methoden:\")\n",
    "Test.get_value = lambda self : self.a + self.b # anstelle von lambda geht natürlich auch eine zuvor definierte Funktion\n",
    "x.get_value_from_instance = (lambda self : self.a / self.b).__get__(x)  # damit beim Aufruf der Methode \"self\" übergeben wird,\n",
    "                                                                        # muss die Methode an das Objekt gebunden werden\n",
    "                                                                        # (dies kann mit __get__ erfolgen)\n",
    "print(Test.__dict__)\n",
    "print(x.__dict__)\n",
    "\n",
    "print(\"x.a + x.b = \" + str(x.get_value()))\n",
    "print(\"x.a / x.b = \" + str(x.get_value_from_instance()))\n",
    "\n",
    "print()\n",
    "print(\"Entfernen von Methoden mittels delattr:\")\n",
    "delattr(x, \"get_value_from_instance\") # Methoden, die nur an ein Objekt gebunden wurden,\n",
    "                                      # können auch wieder vom Objekt entfernt werden\n",
    "delattr(Test, \"get_value\")\n",
    "print(Test.__dict__)\n",
    "print(x.__dict__)\n",
    "\n",
    "print()\n",
    "print(\"Hinzufügen von Methoden mittels setattr:\")\n",
    "def add_in_class_method(self):\n",
    "    return \"in Klasse: \" + str(self.a + self.b)\n",
    "def add_in_instance_method(self):\n",
    "    return \"in Instanz: \" + str(self.a + self.b)\n",
    "setattr(Test, \"add_in_class_method\", add_in_class_method)\n",
    "setattr(x, \"add_in_instance_method\", add_in_instance_method.__get__(x))\n",
    "print(Test.__dict__)\n",
    "print(x.__dict__)\n",
    "\n",
    "print(x.add_in_class_method())\n",
    "print(x.add_in_instance_method())"
   ]
  },
  {
   "cell_type": "markdown",
   "id": "63672a11-f3e0-4ca8-9fc1-65afe8a66933",
   "metadata": {},
   "source": [
    "### Iterators\n",
    "\n",
    "For-Schleifen iterieren über Aufzählungen von Elementen oder über Generatoren. Implementiert ist dies, indem Jede Aufzählung und jeder Generator die Methode \\_\\_iter\\_\\_ implementiert. Diese gibt ein Objekt zurück, welches wiederum die Methode \\_\\_next\\_\\_ zur Verfügung stellt. Diese kann über die built-in Funktion next aufgerufen werden. Sie gibt immer das nächste Element der Aufzählung bzw. des Generators zurück. Ist kein weiteres Element mehr vorhanden, so wird die Exception StopIteration geworfen und die Schleife terminiert.\n",
    "\n",
    "Die Methoden \\_\\_iter\\_\\_ und \\_\\_next\\_\\_ können daher genutzt werden, um Objekte einer eigenen Klasse in for-Schleifen zu nutzen."
   ]
  },
  {
   "cell_type": "code",
   "execution_count": null,
   "id": "2a23d429-b14e-4f09-ba51-fe71b2fae62b",
   "metadata": {},
   "outputs": [],
   "source": [
    "class Every_nth_element:\n",
    "    def __init__(self, n, list):\n",
    "        self._n = n\n",
    "        self._list = list\n",
    "        self._pos = -1\n",
    "        self._len = len(list)\n",
    "    \n",
    "    def __iter__(self):\n",
    "        return self\n",
    "    \n",
    "    def __next__(self):\n",
    "        self._pos += self._n\n",
    "        if (self._pos >= self._len):\n",
    "            raise StopIteration\n",
    "        return self._list[self._pos]\n",
    "\n",
    "x = (1, 2, 3, 4, 5, 6, 7)\n",
    "for i in Every_nth_element(2, x):\n",
    "    print(i)"
   ]
  },
  {
   "cell_type": "code",
   "execution_count": null,
   "id": "6772fd34-1761-469c-9310-82e943e1d765",
   "metadata": {},
   "outputs": [],
   "source": [
    "def every_nth_element(n, list): # oft lassen sich Generatoren anstelle eines eigenen Iterators nutzen\n",
    "    for i in list[1::2]:\n",
    "        yield i # jeder Aufruf von next führt das nächste yield aus, bis abschließend eine StopIteration Exception geworfen wird\n",
    "\n",
    "x = (1, 2, 3, 4, 5, 6, 7)\n",
    "for i in every_nth_element(2, x): # Generator stellt automatisch __iter__ und __next__ zur Verfügung\n",
    "    print(i)"
   ]
  },
  {
   "cell_type": "code",
   "execution_count": null,
   "id": "231c3afb-7398-4871-a129-b6dacbb9625e",
   "metadata": {},
   "outputs": [],
   "source": [
    "x = (1, 2, 3, 4, 5, 6, 7)\n",
    "for i in x[1::2]: # im konkreten Fall hätte natürlich eine Slice-Operation gereicht\n",
    "    print(i)"
   ]
  },
  {
   "cell_type": "markdown",
   "id": "acfef584-0b12-443b-a17c-db825ab2000b",
   "metadata": {},
   "source": [
    "### Exceptions\n",
    "\n",
    "Python hat mit try, except und raise Schlüsselwörter zur Behandlung von Fehlern.\n",
    "\n",
    "Mit raise kann ein Fehler geworfen werden. Dieser Fehler kann dann in einem umgebenden try-Block gefangen und verarbeitet werden. Wird der Fehler nicht abgefangen, so wird er z.B. auf der Konsole ausgegeben und das Programm terminiert.\n",
    "\n",
    "Wirft eine Anweisung innerhalb eines try-Blocks direkt oder indirekt (z.B. in einer aufgerufenen Funktion) einen Fehler, so kann dieser mit except-Anweisungen nach dem Try-Block abgefangen werden. Dabei wird jede einzelne except-Anweisung der Reihe nach überprüft und nur die erste Anweisung, die eine zum geworfenen Fehler passende Klasse (siehe isinstance in [Vergleich von Datentypen](#Vergleich-von-Datentypen)) enthält wird ausgeführt. Wird im Anweisungs-Block einer except-Anweisung ein weiterer raise ausgeführt, so kann dieser nicht mit dem gleichen try-except abgefangen werden, mit dem dieser raise ausgelöst wurde. Dies kann nur über einen weiteren den bestehenden try-Block umgebenden try-Block geschehen.\n",
    "\n",
    "Ein try-Block kann nach den except-Anweisungen zwei weitere Anweisungen besitzen. Dies sind else und finally. Ein else-Block wird nur dann ausgeführt, wenn es im try-Block zu keinem Fehler kam. Ein finally-Block wird immer ausgeführt, unabhängig davon, ob eine Exception geworfen wurde oder ob diese gefangen wurde.\n",
    "\n",
    "Eigene Fehler/Exceptions können als Klassen auf Basis vorhandener Klassen erstellt werden. Vorhandene Fehler-Klassen (Built-In Exceptions): https://pythonbasics.org/try-except/"
   ]
  },
  {
   "cell_type": "code",
   "execution_count": null,
   "id": "350d4b47-c371-472e-a228-ebb146ecc6bc",
   "metadata": {},
   "outputs": [],
   "source": [
    "raise TypeError() # erstellt einen Fehler vom Typ TypeError und wirft ihn"
   ]
  },
  {
   "cell_type": "code",
   "execution_count": null,
   "id": "d089349f-10c2-4601-b08f-d0b2181a4a07",
   "metadata": {},
   "outputs": [],
   "source": [
    "raise TypeError # wirft nicht die Klasse TypeError, sondern ist die Kurzform von: raise TypeError()"
   ]
  },
  {
   "cell_type": "code",
   "execution_count": null,
   "id": "cb7acdc0-537c-4147-824b-d8ecf23c99f4",
   "metadata": {},
   "outputs": [],
   "source": [
    "raise TypeError(\"Parameter x hat falschen Wert y\") # wirft einen TypeError mit einem zusätzlichen Argument"
   ]
  },
  {
   "cell_type": "code",
   "execution_count": null,
   "id": "53d3c05d-f833-48ef-aaae-ae59ef388c23",
   "metadata": {},
   "outputs": [],
   "source": [
    "a = [0, 1]\n",
    "b = 5\n",
    "\n",
    "try:\n",
    "    if a < b:\n",
    "        print(\"unerreichbar aufgrund Exception\")\n",
    "except Exception as e: # fängt Objekte vom Typ Exception und Objekte, deren Typ von Exception abgeleitet ist\n",
    "    print(str(type(e)) + \": \" + str(e))"
   ]
  },
  {
   "cell_type": "code",
   "execution_count": null,
   "id": "6bb4be75-08a2-4d92-98e6-f2fdb0f02348",
   "metadata": {},
   "outputs": [],
   "source": [
    "def throw_exception(i):\n",
    "    if type(i) != int:\n",
    "        raise TypeError(\"Parameter ist kein int\")\n",
    "    if i < 0 or i > 10:\n",
    "        raise ValueError(\"Parameter ist nicht im Bereich 0-10\")\n",
    "    if i < 6:\n",
    "        raise Exception(\"ein Fehler trat auf\")\n",
    "\n",
    "try:\n",
    "    #throw_exception(\"test\")\n",
    "    #throw_exception(11)\n",
    "    #throw_exception(5)\n",
    "    throw_exception(6)\n",
    "except TypeError as te:\n",
    "    print(\"ein TypeError trat auf: \" + str(te))\n",
    "except ValueError as ve:\n",
    "    print(\"ein ValueError trat auf: \" + str(ve))\n",
    "except: # fängt alle Fehler, stellt den Fehler aber nicht als Instanz zur Verfügung\n",
    "    print(\"ein unbekannter Error trat auf\")\n",
    "else:\n",
    "    print(\"es trat kein Error auf\")\n",
    "finally:\n",
    "    print(\"wird immer ausgeführt\")\n",
    "    # break, continue oder return im finally-Block verhindert ein raise von ungefangenen Fehlern\n",
    "    # wenn sowohl der try- als auch der finally-Block ein return enthalten, wird der return aus dem finally ausgeführt"
   ]
  },
  {
   "cell_type": "code",
   "execution_count": null,
   "id": "4208aad4-d996-4c70-9e0e-286ebef27d6f",
   "metadata": {},
   "outputs": [],
   "source": [
    "class TestException(Exception):\n",
    "    pass\n",
    "\n",
    "raise TestException(\"nur ein Test\")"
   ]
  },
  {
   "cell_type": "code",
   "execution_count": null,
   "id": "11771f14-a450-4070-a618-195810c91258",
   "metadata": {},
   "outputs": [],
   "source": [
    "class TestException(Exception):\n",
    "    pass\n",
    "\n",
    "for e in (TypeError(\"Parameter ist kein int\"), ValueError(\"Parameter ist nicht im Bereich 0-10\"), TestException(\"nur ein Test\")):\n",
    "    try:\n",
    "        raise e\n",
    "    except (TypeError, ValueError) as e: # es kann mehr als eine Fehlerklasse in einem except-Statement abgefragt werden\n",
    "        print(\"Type- oder ValueError\")\n",
    "    except BaseException as e: # alle Exceptions sind von BaseException abgeleitet\n",
    "        print(e)\n",
    "        raise e # rethrow Exception"
   ]
  },
  {
   "cell_type": "code",
   "execution_count": null,
   "id": "d54fcfd7-005e-4a29-be10-28d882c9c88c",
   "metadata": {},
   "outputs": [],
   "source": [
    "class TestException(Exception):\n",
    "    pass\n",
    "\n",
    "try:\n",
    "    print(\"test\")\n",
    "    raise TypeError\n",
    "except TypeError as e:\n",
    "    raise ValueError() # in except und in finally werden neue Fehler mit den bestehenden verkettet\n",
    "else:\n",
    "    raise ValueError()\n",
    "finally:\n",
    "    raise ValueError() # in except und in finally werden neue Fehler mit den bestehenden verkettet"
   ]
  },
  {
   "cell_type": "code",
   "execution_count": null,
   "id": "f8c62093-99bf-45bf-9274-5fa6b20bc188",
   "metadata": {},
   "outputs": [],
   "source": [
    "class TestException(Exception):\n",
    "    pass\n",
    "\n",
    "try:\n",
    "    print(\"test\")\n",
    "    raise TypeError\n",
    "except TypeError as e:\n",
    "    raise ValueError() from None # from None: verhindert Verkettung mit existierendem Fehler\n",
    "else:\n",
    "    raise ValueError()\n",
    "finally:\n",
    "    raise ValueError() from None # from None: verhindert Verkettung mit existierendem Fehler"
   ]
  },
  {
   "cell_type": "markdown",
   "id": "a7657615-dba6-4b55-bad5-fe1532809756",
   "metadata": {},
   "source": [
    "### With, \\_\\_enter\\_\\_, \\_\\_exit\\_\\_ und contextmanager\n",
    "\n",
    "Über das with-Statement können context manager genutzt werden. Sowohl ein Objekt, als auch eine Funktion kann ein context manager sein. Hierfür muss das Objekt bzw. die Funktion Anweisungen zum Erstellen und zum Beenden des Kontexts aufweisen. Ein Kontext kann z.B. eine Datei oder eine Datenbankverbindung sein. Beim Erstellen wird die Datei geöffnet oder die Datenbankverbindung erstellt. Beim Beenden des Kontextes wird dann die Datei wieder geschlossen oder die Datenbankverbindung beendet. Der Nutzer bzw. die Nutzerin des Kontexts führt das Erstellen und das Beenden implizit durch das Nutzen der with-Anweisung aus. Er/Sie muss hierbei nicht explizit die passenden Funktionalitäten aufrufen und auch nicht dafür sorgen, dass im Falle einer Exception der Kontext in der Fehlerverarbeitung ordentlich beendet wird."
   ]
  },
  {
   "cell_type": "code",
   "execution_count": null,
   "id": "fc6fbdf2-8b05-4a40-982d-97b8832b84b7",
   "metadata": {},
   "outputs": [],
   "source": [
    "try:\n",
    "    with open(\"files/test.csv\") as file:\n",
    "        print(\"file closed: \"+ str(file.closed))\n",
    "        #raise EOFError(\"Lesen abgebrochen\")\n",
    "        print(file.readline())\n",
    "finally:\n",
    "    print(\"file closed: \"+ str(file.closed))"
   ]
  },
  {
   "cell_type": "code",
   "execution_count": null,
   "id": "2c37d53f-af35-4c8b-8ed3-f8dc7148e85e",
   "metadata": {},
   "outputs": [],
   "source": [
    "class Writer:\n",
    "    def __init__(self, file_name):\n",
    "        self.file_name = file_name\n",
    "    \n",
    "    def __enter__(self): # wird von der with-Anweisung aufgerufen\n",
    "        print(\"Datei wird geöffnet\")\n",
    "        self.file = open(self.file_name, 'r')\n",
    "        return self.file # return von __enter__ kann über das Schlüsselwort as in der with-Anweisung einer Variablen zugewiesen werden\n",
    "    \n",
    "    def __exit__(self, exception_type, exception_value, traceback): # wird nach Verlassen des with-Anweisungsblocks aufgerufen\n",
    "        if exception_type is not None:\n",
    "            print(\"Es trat ein Fehler auf: wir fangen ihn nicht ab\")\n",
    "            self.file.close()\n",
    "            return False # wir reichen den Fehler weiter\n",
    "        print(\"Datei wird geschlossen\")\n",
    "        self.file.close()\n",
    "        return True\n",
    "\n",
    "try:\n",
    "    with Writer(\"files/test.csv\") as file:\n",
    "        print(\"file closed: \"+ str(file.closed))\n",
    "        #raise EOFError(\"Lesen abgebrochen\")\n",
    "        print(file.readline())\n",
    "finally:\n",
    "    print(\"file closed: \"+ str(file.closed))"
   ]
  },
  {
   "cell_type": "code",
   "execution_count": null,
   "id": "587213aa-258d-4020-82b5-b63144449e4a",
   "metadata": {},
   "outputs": [],
   "source": [
    "from contextlib import contextmanager\n",
    "\n",
    "class Writer:\n",
    "    def __init__(self, file):\n",
    "        self.file_name = file\n",
    "    \n",
    "    @contextmanager\n",
    "    def open_and_close(self):\n",
    "        try:\n",
    "            print(\"Datei wird geöffnet\")\n",
    "            self.file = open(self.file_name, 'r')\n",
    "            yield self.file # dank @contextmanager verhält sich yield wie __exit__\n",
    "        finally:\n",
    "            print(\"Datei wird geschlossen\")\n",
    "            self.file.close()\n",
    "\n",
    "try:\n",
    "    with Writer(\"files/test.csv\").open_and_close() as file:\n",
    "        print(\"file closed: \"+ str(file.closed))\n",
    "        #raise EOFError(\"Lesen abgebrochen\")\n",
    "        print(file.readline())\n",
    "finally:\n",
    "    print(\"file closed: \"+ str(file.closed))"
   ]
  },
  {
   "cell_type": "markdown",
   "id": "a058e2e6-d177-4e41-978f-213cadcca728",
   "metadata": {},
   "source": [
    "### Module und import\n",
    "\n",
    "Module Kapseln Funktionen (und manchmal auch Daten) in einzelnen Dateien. Hierfür werden die Funktionen einfach in einer Text-Datei mit der Dateiendung \".py\" abgelegt. Mittels des Schlüsselworts import können die Funktionen dann in einem anderen Python-Source importiert und anschließend genutzt werden. Bei der Verwendung von import wird nur der Name des Moduls ohne Datei-Endung angegeben."
   ]
  },
  {
   "cell_type": "code",
   "execution_count": null,
   "id": "ed1a7feb-fcc5-4a4e-920d-4f3e6cc16b7a",
   "metadata": {},
   "outputs": [],
   "source": [
    "import platform\n",
    "\n",
    "x = platform.system()\n",
    "print(x)"
   ]
  },
  {
   "cell_type": "code",
   "execution_count": null,
   "id": "b207af0f-42a9-4fc3-b4d4-b833bc3d3b7d",
   "metadata": {},
   "outputs": [],
   "source": [
    "import platform\n",
    "\n",
    "print(dir(platform)) # dir listet alle Bezeichner (Funktionen und Variablen) in einem Objekt auf"
   ]
  },
  {
   "cell_type": "code",
   "execution_count": null,
   "id": "fe890031-cab2-475c-b7e6-19021f59fa8e",
   "metadata": {},
   "outputs": [],
   "source": [
    "import platform\n",
    "\n",
    "for e in dir(platform):\n",
    "    x = getattr(platform, e)\n",
    "    if (callable(x)): # x ist eine Funktion oder kann wie eine Funktion aufgerufen werden (z.B. eine Klasse mit der Methode __call__)\n",
    "        print(x)"
   ]
  },
  {
   "cell_type": "code",
   "execution_count": null,
   "id": "f5923bfe-e5e1-4bc4-8b0b-8c4e000bc54f",
   "metadata": {},
   "outputs": [],
   "source": [
    "import platform as p # Modul wird für die lokale Benutzung umbenannt\n",
    "\n",
    "x = p.system()\n",
    "print(x)"
   ]
  },
  {
   "cell_type": "code",
   "execution_count": null,
   "id": "168ea390-e7a0-434b-b6f6-67d9237746aa",
   "metadata": {},
   "outputs": [],
   "source": [
    "from platform import system # importiert eine einzelne Funktion/Variable von einem Modul\n",
    "\n",
    "print(system())"
   ]
  },
  {
   "cell_type": "code",
   "execution_count": null,
   "id": "bbfd4a28-b071-483f-a1ce-7ceaa57ce99a",
   "metadata": {},
   "outputs": [],
   "source": [
    "from platform import system as s\n",
    "\n",
    "print(s())"
   ]
  },
  {
   "cell_type": "markdown",
   "id": "49c11d22-b0ea-45eb-8277-332447dbafd6",
   "metadata": {},
   "source": [
    "Eigene Module können wie die vorhandenen Python-Module genutzt werden:"
   ]
  },
  {
   "cell_type": "code",
   "execution_count": null,
   "id": "5845b297-870c-4c70-a319-df0f31b09795",
   "metadata": {
    "tags": []
   },
   "outputs": [],
   "source": [
    "import os\n",
    "\n",
    "module_as_string = \"\"\"# import test module\n",
    "def test():\n",
    "    print(\"dies ist ein Test\")\n",
    "\"\"\"\n",
    "\n",
    "with open(\"test.py\", \"w\") as file:\n",
    "    file.write(module_as_string)\n",
    "\n",
    "import test\n",
    "\n",
    "test.test()\n",
    "\n",
    "os.remove(\"test.py\")"
   ]
  },
  {
   "cell_type": "markdown",
   "id": "276942da-b7b0-4bcf-bb8a-728c5b6ffa23",
   "metadata": {
    "tags": []
   },
   "source": [
    "### Environment erstellen\n",
    "\n",
    "__WICHTIG: um Environments aus Jupyter heraus zu erstellen oder zu wechseln müssen die Hinweise  aus Abschnitt [Environments und Jupyter](#Environments-und-Jupyter) beachtet werden__\n",
    "\n",
    "Python Anwendungen/Module benötigen gegebenenfalls weitere Module. Diese Abhängigkeiten sind evtl. auf bestimmte Versionen beschränkt.\n",
    "Z.B. Modul A welches Modul C in der Version 1 benötigt, während das Modul B ebenfalls das Modul C, allerdings in Version 2 benötigt. Wird in einem solchen Fall das Modul C in der Version 1 installiert, so kann nur das Modul A, aber nicht das Modul B genutzt werden. Wird dagegen die Version 2 installiert, kann nur B aber nicht A genutzt werden.\n",
    "\n",
    "Um bei der Nutzung von verschiedenen Anwendungen/Modulen mit unterschieldichen Abhängigkeiten nicht fortwährend Module-Versionen installieren und deinstallieren zu müssen, bietet Python die Möglichkeit mehrere separate Installationsumgebungen zu pflegen. Diese Umgebungen werden Virtual Environments genannt. Diese getrennten Umgebungen werden in separaten Verzeichnissen vorgehalten.\n",
    "\n",
    "Um ein neues Virtual Environment anzulegen kann folgender Befehl gnutzt werden (dieser muss wie alle nachfolgenden Befehle im Terminal File->New->Terminal ausgeführt werden):\n",
    "\n",
    "```bash\n",
    "python3 -m venv <Name des Virtual Environment>\n",
    "```\n",
    "\n",
    "Dabei wird zur Ausführung des Befehls die Python-Version genutzt, die im Virtual Environment zur Verfügung stehen soll. Soll Python3 im Environment genutzt werden, so muss der Befehl (wie oben gezeigt) mit Python3 beginnen.\n",
    "\n",
    "Ein Environment wird aktiviert, indem ein entsprechendes Script im Environment-Verzeichnis ausgeführt wird:\n",
    "\n",
    "```bash\n",
    "source <Name des Virtual Environment>/bin/activate\n",
    "```\n",
    "\n",
    "Im aktivierten Environment können mittels pip Module installiert/deinstalliert werden:\n",
    "\n",
    "```bash\n",
    "python3 -m pip install ipykernel\n",
    "python3 -m pip uninstall ipykernel\n",
    "```\n",
    "\n",
    "Wenn ein Environment nicht mehr gebraucht wird, kann es mittels des Befehls\n",
    "\n",
    "```bash\n",
    "deactivate\n",
    "```\n",
    "\n",
    "wieder entladen werden. Ein Environment kann vollständig entfernt werden, indem das Verzeichnis indem es erstellt worden ist (\\<Name des Virtual Environment\\>) gelöscht wird.\n",
    "\n",
    "#### Environments und Jupyter\n",
    "\n",
    "Wird das Environment über die Konsole in einer bwUniCluster-Jupyter-Instanz angelegt, so muss dort vor dem Installieren/Deinstallieren über pip noch das bereits geladene jupyter/base-Modul entladen werden. Erst, wenn dieses Modul entladen wurde, kann mittels pip in ein mit source aktiviertes Environment installiert werden. Das jupyter/base-Modul kann über das Icon \"Softwares\" am linken Rand entladen werden. Im anschließend sichtbaren Menu erscheint, sobald der Mauszeiger auf den Eintrag \"jupyter/base/2023-03-24\" positioniert wird, eine Schaltfläche mit der Bezeichnung \"Unload\". Wird \"Unload\" angeklickt, so wird das Modul mit allen Abhängigkeiten entladen.\n",
    "\n",
    "![title](images/bwUniCluster_Jupyter_Unload_BaseModule.png)\n",
    "\n",
    "Zusätzlich muss evtl. das zugehörige modul in der Konsole über folgenden Befehl entladen werden (wird die Konsole erst nach dem Entladen des base-Moduls geöffnet, ist dieser Schritt nicht notwendig):\n",
    "\n",
    "```bash\n",
    "module unload jupyter/base/2023-03-24\n",
    "```\n",
    "\n",
    "Anschließend an das Entladen des Moduls kann mittels pip das Environment verändert werden.\n",
    "\n",
    "Um ein eigenes environment auch mit Jupyter nutzen zu können, muss der Jupyter-Kernel im Environment installiert sein:\n",
    "\n",
    "```bash\n",
    "python3 -m pip install ipykernel\n",
    "```\n",
    "\n",
    "Anschließend muss der Kernel noch für die Nutzung aus Jupyter heraus registriert werden:\n",
    "\n",
    "```bash\n",
    "python3 -m ipykernel install --user --name=<Name des Virtual Environment>\n",
    "```\n",
    "\n",
    "Ein solcher Kernel kann dann in Jupyter genutzt werden (gegebenenfalls muss mittels F5 aktualisiert werden, um den neuen Kernel anzuzeigen). Er bringt dabei die Module des Environments mit.\n",
    "\n",
    "In Jupyter kann das Environment durch ein Wechseln des Kernels ausgetauscht werden. In einem geöffneten Notebook kann hierfür die Kernel-Schaltfläche (rechts oben) genutzt werden.\n",
    "\n",
    "Diese trägt den Namen des aktuell ausgewählten Kernels: ![title](images/Kernel_Auswahl1.png)\n",
    "\n",
    "Sie öffnet ein Menu mit einer drop-down Auswahlliste aller aktuell verfügbaren Kernels (und der damit verbundenen Environments). Durch Auswahl des gewünschten Kernels und ein Bestätigen über die \"Select\"-Schaltfläche kann das Environment für ein einzelnes Notebook geändert werden.\n",
    "\n",
    "![title](images/Kernel_Auswahl2.png)\n",
    "\n",
    "![title](images/Kernel_Auswahl3.png)"
   ]
  },
  {
   "cell_type": "markdown",
   "id": "51ab855f-2f43-400e-ac8a-ed074ad0a6cf",
   "metadata": {
    "jp-MarkdownHeadingCollapsed": true,
    "tags": []
   },
   "source": [
    "### Environment für folgende Übungen\n",
    "\n",
    "Um alle für die Übungen benötigten Module verfügbar zu machen, muss zunächst ein entsprechendes Environment erstellt werden. Hierfür nutzen wir Miniconda (im Gegensatz zu dem oben gezeigten Vorgehen über pip).\n",
    "\n",
    "Miniconda bietet die Möglichkeit ein Environment über das Laden von fertigen Binaries zu erstellen. Im Gegensatz zu pip install reduziert dies die nötigen Abhängigkeiten, da bei pip install gegebenenfalls Software gebaut wird (z.B. mpi für dask-mpi) und hierfür alle zum Bauen/Kompilieren notwendigen Komponenten in der jeweils passenden Form vorhanden sein müssen.\n",
    "\n",
    "__WICHTIG: spätestens jetzt muss das im Jupyter bereits geladene Environment entladen werden (siehe Abschnitt [Environments und Jupyter](#Environments-und-Jupyter)).__\n",
    "\n",
    "Zunächst benötigen wir eine aktuelle Version von Miniconda (alle nachfolgenden Befehle müssen im Terminal File->New->Terminal ausgeführt werden):\n",
    "\n",
    "#### Miniconda Modul laden\n",
    "\n",
    "Auf bwUniCluster steht eine installierte Version von Miniconda zur Verfügung. Diese kann über den folgenden Befehl geladen werden.\n",
    "\n",
    "```bash\n",
    "module load devel/miniconda/23.9.0-py3.9.15\n",
    "```\n",
    "\n",
    "#### Miniconda installieren\n",
    "\n",
    "Alternativ zu vorinstallierten Miniconda-Modulen kann auch eine userspezifische Installation erfolgen (ist nur notwendig, wenn eine Version von Miniconda benötigt wird, welche nicht als Modul verfügbar ist):\n",
    "\n",
    "```bash\n",
    "wget https://repo.anaconda.com/miniconda/Miniconda3-latest-Linux-x86_64.sh\n",
    "```\n",
    "\n",
    "Anschließend muss das geladene sh-Script mit den zum Ausführen nötigen Rechten ausgestattet und dann ausgeführt werden:\n",
    "\n",
    "```bash\n",
    "chmod +x Miniconda3-latest-Linux-x86_64.sh\n",
    "```\n",
    "\n",
    "```bash\n",
    "./Miniconda3-latest-Linux-x86_64.sh\n",
    "```\n",
    "\n",
    "Während der Ausführung des Scripts kommt zunächst die Abfrage \"Please, press ENTER to continue\". Diese bitte mit der Enter-Taste bestätigen.\n",
    "\n",
    "Anschließend bitte den Lizenzvereinbarungen zustimmen. Mittels der Leertaste kann zum Ende der Vereinbarung gesprungen werden. Dannach erscheint die Abfrage \"Please answer 'yes' or 'no':\". Durch die Eingabe von \"yes\" und Betätigen der Enter-Taste kann fortgefahren werden.\n",
    "\n",
    "Bei der Abfrage \"Press ENTER to confirm the location\" benötigen wir die Standardeinstellung. Dementsprechend bitte einfach mit der Enter-Taste bestätigen.\n",
    "\n",
    "Die Abfrage \"Do you wish the installer to initialize Miniconda3 by running conda init? \\[yes|no\\]\" bitte mit \"yes\" bestätigen.\n",
    "\n",
    "Um alle Änderungen im aktuellen Terminal zu aktivieren, muss die bashrc ausgeführt werden.\n",
    "\n",
    "```bash\n",
    "bash\n",
    "```\n",
    "\n",
    "Nachdem die Installation von Miniconda abgeschlossen ist, ist das bei der Installation erstellte base-Environment in die bashrc-Datei eingetragen. Dies sorgt dafür, dass dieses Environment beim Starten eines Terminals automatisch aktiviert wird. Wir empfehlen diesen Automatismus über den folgenden Befehl zu deaktivieren:\n",
    "\n",
    "```bash\n",
    "conda config --set auto_activate_base false\n",
    "```\n",
    "\n",
    "Folgend kann entweder das vorbereitete yml-file genutzt werden, um alle benötigten Module in der benötigten Version zu installieren, oder jedes Modul kann manuell installiert werden. Für den Workshop bitte die yml-File-Variante nutzen, da nur hier jedes Modul in der von uns getesteten Version installiert wird. Beim manuellen Installieren werden ohne Versionsangabe die neuesten Versionen installiert.\n",
    "\n",
    "#### Environment von yml-File installieren\n",
    "\n",
    "> Ein als yml-File gesichertes Environment kann über den folgenden Befehl installiert werden:\n",
    "> \n",
    "> ```bash\n",
    "> conda env create --file ~/git/workshop-parallel-jupyter/python_workshop_env.yml\n",
    "> ```\n",
    "\n",
    "> Damit die nachfolgenden Installationen in das neu angelegte Environment installieren, muss dieses aktiviert werden:\n",
    "> \n",
    "> ```bash\n",
    "> conda activate python_workshop_env\n",
    "> ```\n",
    "\n",
    "#### Environment manuell installieren\n",
    "\n",
    "> Das für die folgenden Übungen benötigte Environment wird mit dem folgenden Befehl erstellt:\n",
    "> \n",
    "> ```bash\n",
    "> conda create -n python_workshop_env python=3.7.11\n",
    "> ```\n",
    "> \n",
    "> Die Abfrage \"Proceed (\\[y\\]/n)?\" bitte mit \"y\" bestätigen.\n",
    "\n",
    "> Damit die nachfolgenden Installationen in das neu angelegte Environment installieren, muss dieses aktiviert werden:\n",
    "> \n",
    "> ```bash\n",
    "> conda activate python_workshop_env\n",
    "> ```\n",
    "\n",
    "> Für die folgenden Übungen werden die Pakete dask, \"dask[distributed]\", bokeh, ipykernel, mpi4py, s3fs, numpy, pandas, matplotlib, seaborn, scikit-learn und dask-ml benötigt. Der nachfolgende Befehl installiert diese in das Environment:\n",
    "> \n",
    "> ```bash\n",
    "> conda install s3fs bokeh dask ipykernel numpy pandas matplotlib seaborn \"dask[distributed]\" mpi4py scikit-learn dask-ml\n",
    "> ```\n",
    "> \n",
    "> Die Abfrage \"Proceed (\\[y\\]/n)?\" bitte mit \"y\" bestätigen.\n",
    "\n",
    "> Zur Visualisierung von Dask-Tasks und deren Abhängigkeiten untereinander wird noch das Modul graphviz benötigt (dieses funktioniert nur, wenn dot als ausführbares Programm installiert > ist => dies ist am bwUniCluster der Fall).\n",
    "> \n",
    "> ```bash\n",
    "> conda install -c conda-forge python-graphviz\n",
    "> ```\n",
    "> \n",
    "> Die Abfrage \"Proceed (\\[y\\]/n)?\" bitte mit \"y\" bestätigen.\n",
    "\n",
    "> Ein fertiges Environment kann als yml-File gesichert werden (dies ermöglicht ein exaktes Reproduzieren des Environments auf anderen Geräten):\n",
    "> \n",
    "> ```bash\n",
    "> conda env export > python_workshop_env.yml\n",
    "> ```\n",
    "\n",
    "Abschließend muss noch dask-mpi installiert werden (dies erfolgt ausnahmsweise nicht über das yml-File, da über dieses nur als Release verfügbare Modul-Versionen installiert werden können und wir einen Entwicklungsstand benötigen s.u.):\n",
    "\n",
    "```bash\n",
    "# Ein aktuelles Release von dask-mpi kann über conda-forge installiert werden:\n",
    "# conda install -c conda-forge dask-mpi\n",
    "# Leider ist die aktuell verfügbare Version 2.21 nicht dazu geeignet einen Dask-Cluster nachträglich zu erweitern.\n",
    "# Die nächste Version wird dies aber unterstützen. Um im Workshop diese Funktion zeigen zu können,\n",
    "# nutzen wir einen Entwicklungsstand aus dem Git-Repository von dask-mpi:\n",
    "python3 -m pip install git+https://github.com/dask/dask-mpi@76b71050b789db56af6b4b1b21bbfd33a608919c\n",
    "```\n",
    "\n",
    "Damit das Environment auch im Jupyter-Notebook genutzt werden kann, muss es entsprechend registriert werden:\n",
    "\n",
    "```bash\n",
    "python3 -m ipykernel install --user --name=python_workshop_env\n",
    "```\n",
    "\n",
    "Innerhalb einer Terminal-Session kann ein conda-Environment mit \"conda deactivate\" wieder deaktiviert werden.\n",
    "\n",
    "```bash\n",
    "conda deactivate\n",
    "```\n",
    "\n",
    "Eine Liste aller über Conda verfügbaren Environments kann mit folgendem Befehl angezeigt werden:\n",
    "\n",
    "```bash\n",
    "conda env list\n",
    "```\n",
    "\n",
    "Ein inaktives Environment kann mittels des folgenden Befehls aktiviert werden:\n",
    "\n",
    "```bash\n",
    "conda activate <Name des Virtual Environment>\n",
    "```\n",
    "\n",
    "__Um abschließend den Kernel im Jupyter nutzen zu können muss die Website aktualisiert (F5-Taste) werden__. Anschließend kann in jedem Notebook der neue Kernel passend zum neuen Environment ausgewählt werden. Dies erfolg über eine Schaltfläche rechts oben im jeweiligen Notebook (siehe auch Abschnitt [Environment erstellen](#Environment-erstellen))."
   ]
  },
  {
   "cell_type": "markdown",
   "id": "51c09800-4cba-461d-8f77-5258eddfc6ad",
   "metadata": {},
   "source": [
    "### Hinweise zu Jupyter\n",
    "\n",
    "Jupyter bietet eine hohe Interaktivität. Der Source-Code kann in einzelne Zellen zerlegt und jede Zelle einzeln ausgeführt, geändert und erneut ausgeführt werden. Hierdurch eignet sich Jupyter sehr gut für das Entwerfen und Experimentieren. Um diese Funktionalität zu ermöglichen muss Jupyter jedoch Ressourcen vorhalten, auch wenn diese gar nicht benötigt werden. So verhindert die Möglichkeit Zellen nachträglich zu Ändern und neue Zellen hinzuzufügen die Nutzung des GarbageCollectors. Da Jupyter nie wissen kann, ob vorhandene Daten später noch benötigt werden (der Source kann sich ändern!) können diese nie automatisch frei gegeben werden. Zudem stehen alle für Jupyter angeforderte Ressourcen auch dann im Notebook zur Verfügung, wenn der Source angepasst wird. Sie sind also auch dann reserviert, wenn aktuell nicht gerechnet/gearbeitet wird. Daher bietet es sich an, Jupyter ausschließlich während der Entwurfs-/Entwicklungsphase mit möglichst kleinen Datenmengen zu verwenden und nicht länger benötigte Daten manuell mittels del Anweisung zu löschen:\n",
    "\n",
    "Fazit:\n",
    "\n",
    "- Jupyter während Entwurfs-/Entwicklungsphase nutzen\n",
    "- Datenmenge so weit wie möglich reduzieren\n",
    "- del-Anweisung zum Löschen nicht mehr benötigter Daten nutzen\n",
    "- im Jupyter entwickelte Vorgehensweise in ein Python-Script überführen (und damit große Datenmengen bearbeiten)"
   ]
  },
  {
   "cell_type": "code",
   "execution_count": null,
   "id": "65bf5385-739c-4058-bb1a-37e9d808a1f0",
   "metadata": {},
   "outputs": [],
   "source": []
  }
 ],
 "metadata": {
  "kernelspec": {
   "display_name": "python_workshop_env",
   "language": "python",
   "name": "python_workshop_env"
  },
  "language_info": {
   "codemirror_mode": {
    "name": "ipython",
    "version": 3
   },
   "file_extension": ".py",
   "mimetype": "text/x-python",
   "name": "python",
   "nbconvert_exporter": "python",
   "pygments_lexer": "ipython3",
   "version": "3.7.11"
  }
 },
 "nbformat": 4,
 "nbformat_minor": 5
}
